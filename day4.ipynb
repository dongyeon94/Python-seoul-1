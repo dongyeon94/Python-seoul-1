{
 "cells": [
  {
   "cell_type": "code",
   "execution_count": 13,
   "metadata": {},
   "outputs": [],
   "source": [
    "def factor(n,i=1):\n",
    "    \n",
    "    print(i,'번')\n",
    "    if (n<2):\n",
    "        result= 1\n",
    "    else:\n",
    "        result= n*factor(n-1,i+1)\n",
    "    print(result)\n",
    "    return result"
   ]
  },
  {
   "cell_type": "code",
   "execution_count": 14,
   "metadata": {},
   "outputs": [
    {
     "name": "stdout",
     "output_type": "stream",
     "text": [
      "1 번\n",
      "2 번\n",
      "3 번\n",
      "4 번\n",
      "5 번\n",
      "1\n",
      "2\n",
      "6\n",
      "24\n",
      "120\n"
     ]
    },
    {
     "data": {
      "text/plain": [
       "120"
      ]
     },
     "execution_count": 14,
     "metadata": {},
     "output_type": "execute_result"
    }
   ],
   "source": [
    "factor(5)"
   ]
  },
  {
   "cell_type": "code",
   "execution_count": 19,
   "metadata": {},
   "outputs": [],
   "source": [
    "def rever(s, dep=0):\n",
    "    print(''*dep,'rever(',s,')')\n",
    "    if(s==''):\n",
    "        return  ''\n",
    "    else:\n",
    "        return  rever(s[1:],dep +1)+s[0]\n",
    "    print(''+dep,'->',result)\n",
    "    return result"
   ]
  },
  {
   "cell_type": "code",
   "execution_count": 21,
   "metadata": {},
   "outputs": [
    {
     "name": "stdout",
     "output_type": "stream",
     "text": [
      " rever( abcd )\n",
      " rever( bcd )\n",
      " rever( cd )\n",
      " rever( d )\n",
      " rever(  )\n"
     ]
    },
    {
     "data": {
      "text/plain": [
       "'dcba'"
      ]
     },
     "execution_count": 21,
     "metadata": {},
     "output_type": "execute_result"
    }
   ],
   "source": [
    "rever('abcd')"
   ]
  },
  {
   "cell_type": "code",
   "execution_count": 53,
   "metadata": {},
   "outputs": [],
   "source": [
    "def gcd(x,y):\n",
    "    if (y==0):\n",
    "        return x\n",
    "    else : \n",
    "        return gcd(y,x%y) "
   ]
  },
  {
   "cell_type": "code",
   "execution_count": 55,
   "metadata": {},
   "outputs": [
    {
     "data": {
      "text/plain": [
       "20"
      ]
     },
     "execution_count": 55,
     "metadata": {},
     "output_type": "execute_result"
    }
   ],
   "source": [
    "gcd(500,420)"
   ]
  },
  {
   "cell_type": "code",
   "execution_count": 59,
   "metadata": {},
   "outputs": [],
   "source": [
    "def pi_se(i):\n",
    "    assert(i>=0)\n",
    "    if i==0:\n",
    "        return 0 \n",
    "    else:\n",
    "        return pi_se(i-1) +1/i**2\n",
    "def pi_fi(n):\n",
    "    x= pi_se(n)\n",
    "    return (6*x)**(.5)"
   ]
  },
  {
   "cell_type": "code",
   "execution_count": 73,
   "metadata": {},
   "outputs": [
    {
     "data": {
      "text/plain": [
       "3.1406380562059946"
      ]
     },
     "execution_count": 73,
     "metadata": {},
     "output_type": "execute_result"
    }
   ],
   "source": [
    "pi_fi(1000)"
   ]
  },
  {
   "cell_type": "code",
   "execution_count": 2,
   "metadata": {},
   "outputs": [],
   "source": [
    "def recursion(a,n):\n",
    "    if n ==0:\n",
    "        return 1 \n",
    "    else:\n",
    "        factor = recursion(a,n//2)\n",
    "        if n%2 ==0:\n",
    "            return factor*factor\n",
    "        else:\n",
    "            return factor*factor*a"
   ]
  },
  {
   "cell_type": "code",
   "execution_count": 4,
   "metadata": {},
   "outputs": [
    {
     "data": {
      "text/plain": [
       "9"
      ]
     },
     "execution_count": 4,
     "metadata": {},
     "output_type": "execute_result"
    }
   ],
   "source": [
    "recursion(3,2)"
   ]
  },
  {
   "cell_type": "code",
   "execution_count": 23,
   "metadata": {},
   "outputs": [],
   "source": [
    "def selsort(nums): \n",
    "    n = len(nums)\n",
    "    for bottom in range(n-1):\n",
    "        mp = bottom\n",
    "        for i in range(bottom+1,n):\n",
    "            if nums[i] < nums[mp]:\n",
    "                mp=i\n",
    "        nums[bottom], nums[mp] = nums[mp], nums[bottom]"
   ]
  },
  {
   "cell_type": "code",
   "execution_count": 28,
   "metadata": {},
   "outputs": [],
   "source": [
    "s = selsort([9,8,7,6,5,4,3,2,1])\n",
    "s"
   ]
  },
  {
   "cell_type": "code",
   "execution_count": 43,
   "metadata": {},
   "outputs": [],
   "source": [
    "def msort(list):\n",
    "    if len(list) == 0 or len(list)==1:\n",
    "        return list[:len(list)]\n",
    "    halfway = len(list)//2\n",
    "    list1 = list[0:halfway]\n",
    "    list2 = list[halfway:len(list)]\n",
    "    newlist1 = msort(list1)\n",
    "    newlist2 = msort(list2)\n",
    "    newlist = merge(newlist1 ,newlist2)\n",
    "    return newlist"
   ]
  },
  {
   "cell_type": "code",
   "execution_count": 44,
   "metadata": {},
   "outputs": [],
   "source": [
    "def merge(a,b):\n",
    "    index_a = 0\n",
    "    index_b = 0\n",
    "    c = []\n",
    "    while index_a < len(a) and index_b < len(b):\n",
    "        if a [index_a] <=b[index_b]:\n",
    "            c.append(a[index_a])\n",
    "            index_a = index_a +1\n",
    "        else:\n",
    "            c.append(b[index_b])\n",
    "            index_b = index_b+1\n",
    "    c.extend(a[index_a:])\n",
    "    c.extend(b[index_b:])\n",
    "    return c"
   ]
  },
  {
   "cell_type": "code",
   "execution_count": 46,
   "metadata": {},
   "outputs": [
    {
     "data": {
      "text/plain": [
       "[0, 1, 2, 3, 4, 5, 6, 7, 8, 9]"
      ]
     },
     "execution_count": 46,
     "metadata": {},
     "output_type": "execute_result"
    }
   ],
   "source": [
    "msort([9,8,7,6,5,4,3,2,1,0])"
   ]
  },
  {
   "cell_type": "code",
   "execution_count": 52,
   "metadata": {},
   "outputs": [
    {
     "data": {
      "text/plain": [
       "[0, 1, 2, 3, 4, 5, 6, 7, 8, 9]"
      ]
     },
     "execution_count": 52,
     "metadata": {},
     "output_type": "execute_result"
    }
   ],
   "source": [
    "s = [9,8,7,6,5,4,3,2,1]\n",
    "sorted([9,8,7,6,5,4,3,2,1,0])"
   ]
  },
  {
   "cell_type": "markdown",
   "metadata": {},
   "source": [
    "### "
   ]
  },
  {
   "cell_type": "markdown",
   "metadata": {},
   "source": [
    "### "
   ]
  },
  {
   "cell_type": "markdown",
   "metadata": {},
   "source": [
    "###  8장"
   ]
  },
  {
   "cell_type": "markdown",
   "metadata": {},
   "source": [
    "### "
   ]
  },
  {
   "cell_type": "code",
   "execution_count": 92,
   "metadata": {},
   "outputs": [
    {
     "name": "stdout",
     "output_type": "stream",
     "text": [
      "True\n",
      "False\n",
      "0\n",
      "1\n",
      "4\n",
      "6\n"
     ]
    }
   ],
   "source": [
    "s = {2,3,5}\n",
    "print(3 in s)\n",
    "print(4 in s)\n",
    "for x in range(7):\n",
    "    if (x not in s):\n",
    "        print(x)"
   ]
  },
  {
   "cell_type": "code",
   "execution_count": 93,
   "metadata": {},
   "outputs": [
    {
     "data": {
      "text/plain": [
       "{'a', 'h', 'o', 'w'}"
      ]
     },
     "execution_count": 93,
     "metadata": {},
     "output_type": "execute_result"
    }
   ],
   "source": [
    "s = set('wahoo')\n",
    "s"
   ]
  },
  {
   "cell_type": "code",
   "execution_count": null,
   "metadata": {},
   "outputs": [],
   "source": []
  }
 ],
 "metadata": {
  "kernelspec": {
   "display_name": "Python 3",
   "language": "python",
   "name": "python3"
  },
  "language_info": {
   "codemirror_mode": {
    "name": "ipython",
    "version": 3
   },
   "file_extension": ".py",
   "mimetype": "text/x-python",
   "name": "python",
   "nbconvert_exporter": "python",
   "pygments_lexer": "ipython3",
   "version": "3.6.5"
  }
 },
 "nbformat": 4,
 "nbformat_minor": 2
}
