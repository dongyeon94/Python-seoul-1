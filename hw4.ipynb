{
 "cells": [
  {
   "cell_type": "code",
   "execution_count": 2,
   "metadata": {},
   "outputs": [],
   "source": [
    "def selsort(nums):              ### 1번  select sort    time \n",
    "    \n",
    "    n = len(nums)\n",
    "    for bottom in range(n-1):\n",
    "        \n",
    "        mp = bottom\n",
    "        for i in range(bottom+1,n):\n",
    "            if nums[i] < nums[mp]:\n",
    "                mp = i\n",
    "        nums[bottom], nums[mp] = nums[mp], nums[bottom]\n",
    "    return nums"
   ]
  },
  {
   "cell_type": "code",
   "execution_count": 3,
   "metadata": {},
   "outputs": [
    {
     "data": {
      "text/plain": [
       "([23, 83, 95, 183, 186, 193, 652, 914, 931, 959], 7.015381737218718e-05)"
      ]
     },
     "execution_count": 3,
     "metadata": {},
     "output_type": "execute_result"
    }
   ],
   "source": [
    "from random import *\n",
    "import time\n",
    "a ,s= [randint(0,1000) for i in range(10)] ,[]\n",
    "\n",
    "\n",
    "st = time.clock()\n",
    "s = selsort(a)\n",
    "en = time.clock()\n",
    "du = en-st\n",
    "s, du"
   ]
  },
  {
   "cell_type": "code",
   "execution_count": null,
   "metadata": {},
   "outputs": [],
   "source": []
  },
  {
   "cell_type": "code",
   "execution_count": 4,
   "metadata": {},
   "outputs": [],
   "source": [
    "def selsort(nums):              ### 1번  select sort\n",
    "    \n",
    "    n = len(nums)\n",
    "    count =0\n",
    "    for bottom in range(n-1):\n",
    "        \n",
    "        mp = bottom\n",
    "        for i in range(bottom+1,n):\n",
    "            count +=1\n",
    "            if nums[i] < nums[mp]:\n",
    "                mp = i\n",
    "        nums[bottom], nums[mp] = nums[mp], nums[bottom]\n",
    "    return count, nums"
   ]
  },
  {
   "cell_type": "code",
   "execution_count": 5,
   "metadata": {
    "scrolled": true
   },
   "outputs": [
    {
     "name": "stdout",
     "output_type": "stream",
     "text": [
      "(45, [2, 94, 110, 285, 536, 718, 772, 839, 925, 954])\n"
     ]
    }
   ],
   "source": [
    "from random import *\n",
    "a ,s= [randint(0,1000) for i in range(10)] ,[]\n",
    "s = selsort(a)\n",
    "print(s)"
   ]
  },
  {
   "cell_type": "code",
   "execution_count": 6,
   "metadata": {},
   "outputs": [
    {
     "name": "stdout",
     "output_type": "stream",
     "text": [
      "before :\n",
      " [312, 750, 780, 285, 55, 204, 27, 411, 11, 305]\n",
      "After :\n",
      " (45, [11, 27, 55, 204, 285, 305, 312, 411, 750, 780])\n"
     ]
    }
   ],
   "source": [
    "from random import *\n",
    "s = []\n",
    "random_items =[randint(0,1000) for c in range(10)]\n",
    "print('before :\\n',random_items)\n",
    "s = selsort(random_items)\n",
    "print('After :\\n',s)"
   ]
  },
  {
   "cell_type": "code",
   "execution_count": null,
   "metadata": {},
   "outputs": [],
   "source": []
  },
  {
   "cell_type": "code",
   "execution_count": null,
   "metadata": {},
   "outputs": [],
   "source": []
  },
  {
   "cell_type": "code",
   "execution_count": 7,
   "metadata": {},
   "outputs": [],
   "source": [
    "def insertion_sort(items):               ### 2번  insertion sort      time\n",
    "    for i in range(1,len(items)):\n",
    "        j = i\n",
    "        while j >0 and items[j] < items[j-1]:\n",
    "            items[j], items[j-1] = items[j-1], items[j]\n",
    "            j -=1\n",
    "    return items"
   ]
  },
  {
   "cell_type": "code",
   "execution_count": 8,
   "metadata": {},
   "outputs": [
    {
     "data": {
      "text/plain": [
       "([0, 75, 95, 204, 353, 413, 500, 607, 966, 981], 6.892304864791754e-05)"
      ]
     },
     "execution_count": 8,
     "metadata": {},
     "output_type": "execute_result"
    }
   ],
   "source": [
    "from random import *\n",
    "import time\n",
    "a ,s= [randint(0,1000) for i in range(10)] ,[]\n",
    "st = time.clock()\n",
    "s = insertion_sort(a)\n",
    "en = time.clock()\n",
    "du = en-st\n",
    "s, du"
   ]
  },
  {
   "cell_type": "code",
   "execution_count": null,
   "metadata": {},
   "outputs": [],
   "source": []
  },
  {
   "cell_type": "code",
   "execution_count": 9,
   "metadata": {},
   "outputs": [],
   "source": [
    "def insertion_sort(items):               ### 2번  insertion sort\n",
    "    count =0\n",
    "    for i in range(1,len(items)):\n",
    "        j = i\n",
    "        while j >0 and items[j] < items[j-1]:\n",
    "            count += 1\n",
    "            items[j], items[j-1] = items[j-1], items[j]\n",
    "            j -=1\n",
    "    return count , items"
   ]
  },
  {
   "cell_type": "code",
   "execution_count": 10,
   "metadata": {},
   "outputs": [
    {
     "name": "stdout",
     "output_type": "stream",
     "text": [
      "(20, [76, 220, 365, 459, 478, 484, 505, 600, 668, 993])\n"
     ]
    }
   ],
   "source": [
    "from random import *\n",
    "s = []\n",
    "random_items =[randint(0,1000) for c in range(10)]\n",
    "s = insertion_sort(random_items)\n",
    "print(s)"
   ]
  },
  {
   "cell_type": "code",
   "execution_count": null,
   "metadata": {},
   "outputs": [],
   "source": []
  },
  {
   "cell_type": "code",
   "execution_count": null,
   "metadata": {},
   "outputs": [],
   "source": []
  },
  {
   "cell_type": "code",
   "execution_count": 11,
   "metadata": {},
   "outputs": [],
   "source": [
    "def buble_sort(items):              #### 3번 buble sort   time\n",
    "    for i in range(len(items)):\n",
    "        for j in range(len(items)-1-i):\n",
    "            if items[j]> i:\n",
    "                items[j], items[j+1] = items[j+1], items[j]\n",
    "    return  items"
   ]
  },
  {
   "cell_type": "code",
   "execution_count": 12,
   "metadata": {},
   "outputs": [
    {
     "data": {
      "text/plain": [
       "([81, 248, 648, 869, 978, 806, 209, 732, 343, 962], 7.753842972668679e-05)"
      ]
     },
     "execution_count": 12,
     "metadata": {},
     "output_type": "execute_result"
    }
   ],
   "source": [
    "from random import *\n",
    "import time\n",
    "a ,s= [randint(0,1000) for i in range(10)] ,[]\n",
    "st = time.clock()\n",
    "s = buble_sort(a)\n",
    "en = time.clock()\n",
    "du = en-st\n",
    "s, du"
   ]
  },
  {
   "cell_type": "code",
   "execution_count": null,
   "metadata": {},
   "outputs": [],
   "source": []
  },
  {
   "cell_type": "code",
   "execution_count": null,
   "metadata": {},
   "outputs": [],
   "source": []
  },
  {
   "cell_type": "code",
   "execution_count": 13,
   "metadata": {},
   "outputs": [],
   "source": [
    "def buble_sort(items):              #### 3번 buble sort\n",
    "    count =0\n",
    "    for i in range(len(items)):\n",
    "        for j in range(len(items)-1-i):\n",
    "            if items[j]> items[j+1]:\n",
    "                count += 1\n",
    "                items[j], items[j+1] = items[j+1], items[j]\n",
    "    return count , items"
   ]
  },
  {
   "cell_type": "code",
   "execution_count": 14,
   "metadata": {},
   "outputs": [
    {
     "name": "stdout",
     "output_type": "stream",
     "text": [
      "(13, [29, 34, 456, 529, 552, 656, 702, 787, 903, 919])\n"
     ]
    }
   ],
   "source": [
    "from random import *\n",
    "s = []\n",
    "random_items =[randint(0,1000) for c in range(10)]\n",
    "s = buble_sort(random_items)\n",
    "print(s)"
   ]
  },
  {
   "cell_type": "code",
   "execution_count": null,
   "metadata": {},
   "outputs": [],
   "source": []
  },
  {
   "cell_type": "code",
   "execution_count": null,
   "metadata": {},
   "outputs": [],
   "source": []
  },
  {
   "cell_type": "code",
   "execution_count": 15,
   "metadata": {},
   "outputs": [],
   "source": [
    "def merge(a, b):                   \n",
    "    index_a = 0                      ### merge sort [1/2]     timee\n",
    "    index_b = 0\n",
    "    c = []\n",
    "    while index_a < len(a) and index_b < len(b):\n",
    "        if a[index_a] <= b[index_b]:\n",
    "            c.append(a[index_a])\n",
    "            index_a = index_a + 1\n",
    "        else:\n",
    "            c.append(b[index_b])\n",
    "            index_b = index_b +1\n",
    "    \n",
    "    c.extend(a[index_a:])\n",
    "    c.extend(b[index_b:])\n",
    "    return  c\n",
    "        "
   ]
  },
  {
   "cell_type": "code",
   "execution_count": 16,
   "metadata": {},
   "outputs": [],
   "source": [
    "def msort(list):           ### merge sort [2/2]      time\n",
    "    if len(list) == 0 or len(list) == 1:\n",
    "        return list[:len(list)]\n",
    "    halfway = len(list) // 2\n",
    "    list1 = list[0:halfway]\n",
    "    list2 = list[halfway:len(list)]\n",
    "    newlist1 = msort(list1)\n",
    "    newlist2 = msort(list2)\n",
    "    newlist = merge(newlist1,newlist2)\n",
    "    \n",
    "    return newlist"
   ]
  },
  {
   "cell_type": "code",
   "execution_count": 17,
   "metadata": {},
   "outputs": [
    {
     "data": {
      "text/plain": [
       "([157, 209, 407, 500, 519, 592, 628, 667, 699, 813], 9.682047310022313e-05)"
      ]
     },
     "execution_count": 17,
     "metadata": {},
     "output_type": "execute_result"
    }
   ],
   "source": [
    "from random import *\n",
    "import time\n",
    "a ,s= [randint(0,1000) for i in range(10)] ,[]\n",
    "st = time.clock()\n",
    "s = msort(a)\n",
    "en = time.clock()\n",
    "du = en-st\n",
    "s, du"
   ]
  },
  {
   "cell_type": "code",
   "execution_count": null,
   "metadata": {},
   "outputs": [],
   "source": []
  },
  {
   "cell_type": "code",
   "execution_count": null,
   "metadata": {},
   "outputs": [],
   "source": []
  },
  {
   "cell_type": "code",
   "execution_count": 18,
   "metadata": {},
   "outputs": [],
   "source": [
    "def merge(a, b):                   \n",
    "    index_a = 0                      ### merge sort [1/2]\n",
    "    index_b = 0\n",
    "    c = []\n",
    "    while index_a < len(a) and index_b < len(b):\n",
    "        if a[index_a] <= b[index_b]:\n",
    "            c.append(a[index_a])\n",
    "            index_a = index_a + 1\n",
    "        else:\n",
    "            c.append(b[index_b])\n",
    "            index_b = index_b +1\n",
    "    \n",
    "    c.extend(a[index_a:])\n",
    "    c.extend(b[index_b:])\n",
    "    return  c\n",
    "        "
   ]
  },
  {
   "cell_type": "code",
   "execution_count": 19,
   "metadata": {},
   "outputs": [],
   "source": [
    "def msort(list):           ### merge sort [2/2]\n",
    "    if len(list) == 0 or len(list) == 1:\n",
    "        return list[:len(list)]\n",
    "    halfway = len(list) // 2\n",
    "    list1 = list[0:halfway]\n",
    "    list2 = list[halfway:len(list)]\n",
    "    newlist1 = msort(list1)\n",
    "    newlist2 = msort(list2)\n",
    "    newlist = merge(newlist1,newlist2)\n",
    "    \n",
    "    return newlist"
   ]
  },
  {
   "cell_type": "code",
   "execution_count": 20,
   "metadata": {},
   "outputs": [
    {
     "name": "stdout",
     "output_type": "stream",
     "text": [
      "[69, 30, 3, 66, 65, 93, 98, 18, 3, 83]\n",
      "[3, 3, 18, 30, 65, 66, 69, 83, 93, 98]\n"
     ]
    }
   ],
   "source": [
    "from random import *\n",
    "s,a = [],[]\n",
    "random_items =[randint(1,100) for c in range(10)]\n",
    "s = msort(random_items)\n",
    "for i in range(len(s)):\n",
    "    if s[i] <10000:\n",
    "        a.append(s[i])\n",
    "print(random_items)\n",
    "print(s)"
   ]
  },
  {
   "cell_type": "code",
   "execution_count": null,
   "metadata": {},
   "outputs": [],
   "source": []
  },
  {
   "cell_type": "code",
   "execution_count": null,
   "metadata": {},
   "outputs": [],
   "source": []
  },
  {
   "cell_type": "code",
   "execution_count": 21,
   "metadata": {},
   "outputs": [],
   "source": [
    "def quick_sort(items):                 ######  5번쨰 quick sort   time\n",
    "    if len(items) >1:\n",
    "        pivot_index = len(items)//2\n",
    "        smaller_items =[]\n",
    "        larger_items  = []\n",
    "        \n",
    "     \n",
    "        for i ,val in enumerate(items):\n",
    "            \n",
    "            if i != pivot_index:\n",
    "                if val < items[pivot_index]:\n",
    "                    smaller_items.append(val)\n",
    "                    \n",
    "                else:\n",
    "                    larger_items.append(val)\n",
    "                    \n",
    "         \n",
    "        quick_sort(smaller_items)\n",
    "        quick_sort(larger_items)\n",
    "        items[:] = smaller_items + [items[pivot_index]] + larger_items\n",
    "    return   items"
   ]
  },
  {
   "cell_type": "code",
   "execution_count": 22,
   "metadata": {},
   "outputs": [
    {
     "data": {
      "text/plain": [
       "([14, 64, 422, 428, 459, 538, 579, 725, 749, 874], 7.589740476099394e-05)"
      ]
     },
     "execution_count": 22,
     "metadata": {},
     "output_type": "execute_result"
    }
   ],
   "source": [
    "from random import *\n",
    "import time\n",
    "a ,s= [randint(0,1000) for i in range(10)] ,[]\n",
    "st = time.clock()\n",
    "s = quick_sort(a)\n",
    "en = time.clock()\n",
    "du = en-st\n",
    "s, du"
   ]
  },
  {
   "cell_type": "code",
   "execution_count": 23,
   "metadata": {},
   "outputs": [
    {
     "data": {
      "text/plain": [
       "([9, 14, 141, 172, 191, 215, 320, 492, 831, 877], 5.538459266318796e-05)"
      ]
     },
     "execution_count": 23,
     "metadata": {},
     "output_type": "execute_result"
    }
   ],
   "source": [
    "from random import *\n",
    "import time\n",
    "a ,s= [randint(0,1000) for i in range(10)] ,[]\n",
    "st = time.clock()\n",
    "s = sorted(a)\n",
    "en = time.clock()\n",
    "du = en-st\n",
    "s, du"
   ]
  },
  {
   "cell_type": "code",
   "execution_count": null,
   "metadata": {},
   "outputs": [],
   "source": []
  },
  {
   "cell_type": "code",
   "execution_count": 24,
   "metadata": {},
   "outputs": [],
   "source": [
    "def quick_sort(items):                 ######  5번쨰 quick sort\n",
    "    count =0\n",
    "    if len(items) >1:\n",
    "        pivot_index = len(items)//2\n",
    "        smaller_items =[]\n",
    "        larger_items  = []\n",
    "        \n",
    "     \n",
    "        for i ,val in enumerate(items):\n",
    "            \n",
    "            if i != pivot_index:\n",
    "                count +=1\n",
    "                if val < items[pivot_index]:\n",
    "                    smaller_items.append(val)\n",
    "                    \n",
    "                else:\n",
    "                    larger_items.append(val)\n",
    "                    \n",
    "         \n",
    "        quick_sort(smaller_items)\n",
    "        quick_sort(larger_items)\n",
    "        items[:] = smaller_items + [items[pivot_index]] + larger_items\n",
    "    return  count,  items"
   ]
  },
  {
   "cell_type": "code",
   "execution_count": 25,
   "metadata": {},
   "outputs": [
    {
     "name": "stdout",
     "output_type": "stream",
     "text": [
      "(5, [13, 96, 256, 299, 344, 749])\n"
     ]
    }
   ],
   "source": [
    "from random import *\n",
    "s = []\n",
    "random_items =[randint(0,1000) for c in range(6)]\n",
    "s = quick_sort(random_items)\n",
    "print(s)"
   ]
  },
  {
   "cell_type": "code",
   "execution_count": null,
   "metadata": {},
   "outputs": [],
   "source": []
  },
  {
   "cell_type": "code",
   "execution_count": null,
   "metadata": {},
   "outputs": [],
   "source": []
  },
  {
   "cell_type": "code",
   "execution_count": null,
   "metadata": {},
   "outputs": [],
   "source": []
  },
  {
   "cell_type": "code",
   "execution_count": null,
   "metadata": {},
   "outputs": [],
   "source": []
  },
  {
   "cell_type": "code",
   "execution_count": null,
   "metadata": {},
   "outputs": [],
   "source": []
  },
  {
   "cell_type": "code",
   "execution_count": null,
   "metadata": {},
   "outputs": [],
   "source": []
  },
  {
   "cell_type": "code",
   "execution_count": null,
   "metadata": {},
   "outputs": [],
   "source": []
  },
  {
   "cell_type": "code",
   "execution_count": 26,
   "metadata": {},
   "outputs": [
    {
     "name": "stdout",
     "output_type": "stream",
     "text": [
      "before : [-24, -28, 53, 66, -41, 63, 49, -1, 5, -16, 86, 44, 52, 6, 93, 43, 85, 72, -28, 26, -9, 66, -18, 24, -10, -17, 96, 28, 53, 31, -24, 62]\n",
      "After : [-41, -28, -28, -24, -24, -18, -17, -16, -10, -9, -1, 5, 6, 24, 26, 28, 31, 43, 44, 49, 52, 53, 53, 62, 63, 66, 66, 72, 85, 86, 93, 96]\n"
     ]
    }
   ],
   "source": [
    "import random\n",
    "random_items =[random.randint(-50,100) for c in range(32)]\n",
    "print('before :',random_items)\n",
    "insertion_sort(random_items)\n",
    "print('After :',random_items)"
   ]
  },
  {
   "cell_type": "code",
   "execution_count": 27,
   "metadata": {},
   "outputs": [
    {
     "data": {
      "text/plain": [
       "0.0010473841856892818"
      ]
     },
     "execution_count": 27,
     "metadata": {},
     "output_type": "execute_result"
    }
   ],
   "source": [
    "from random import *\n",
    "import time\n",
    "##a1 =[random.randint(-50,100) for c in range(32)]\n",
    "a = [randrange(1000) for i in range(100)]\n",
    "st = time.clock()\n",
    "b = selsort(a)\n",
    "en = time.clock()\n",
    "du = en-st\n",
    "du"
   ]
  },
  {
   "cell_type": "code",
   "execution_count": null,
   "metadata": {},
   "outputs": [],
   "source": []
  },
  {
   "cell_type": "code",
   "execution_count": null,
   "metadata": {},
   "outputs": [],
   "source": []
  },
  {
   "cell_type": "code",
   "execution_count": null,
   "metadata": {},
   "outputs": [],
   "source": []
  },
  {
   "cell_type": "code",
   "execution_count": null,
   "metadata": {},
   "outputs": [],
   "source": []
  },
  {
   "cell_type": "code",
   "execution_count": null,
   "metadata": {},
   "outputs": [],
   "source": []
  },
  {
   "cell_type": "code",
   "execution_count": 67,
   "metadata": {},
   "outputs": [
    {
     "data": {
      "text/plain": [
       "19.300441722895698"
      ]
     },
     "execution_count": 67,
     "metadata": {},
     "output_type": "execute_result"
    }
   ],
   "source": [
    "from random import *\n",
    "import time\n",
    "a ,s= [randint(0,1000) for i in range(10000)] ,[]\n",
    "st = time.clock()\n",
    "s = selsort(a)\n",
    "en = time.clock()\n",
    "du = en-st\n",
    "du"
   ]
  },
  {
   "cell_type": "code",
   "execution_count": 68,
   "metadata": {},
   "outputs": [
    {
     "data": {
      "text/plain": [
       "25.954154275218798"
      ]
     },
     "execution_count": 68,
     "metadata": {},
     "output_type": "execute_result"
    }
   ],
   "source": [
    "from random import *\n",
    "import time\n",
    "a ,s= [randint(0,1000) for i in range(10000)] ,[]\n",
    "st = time.clock()\n",
    "s = insertion_sort(a)\n",
    "en = time.clock()\n",
    "du = en-st\n",
    "du"
   ]
  },
  {
   "cell_type": "code",
   "execution_count": 69,
   "metadata": {
    "scrolled": true
   },
   "outputs": [
    {
     "data": {
      "text/plain": [
       "27.7002823793714"
      ]
     },
     "execution_count": 69,
     "metadata": {},
     "output_type": "execute_result"
    }
   ],
   "source": [
    "from random import *\n",
    "import time\n",
    "a ,s= [randint(0,1000) for i in range(10000)] ,[]\n",
    "st = time.clock()\n",
    "s = buble_sort(a)\n",
    "en = time.clock()\n",
    "du = en-st\n",
    "du"
   ]
  },
  {
   "cell_type": "code",
   "execution_count": 53,
   "metadata": {},
   "outputs": [
    {
     "data": {
      "text/plain": [
       "0.14978045137212348"
      ]
     },
     "execution_count": 53,
     "metadata": {},
     "output_type": "execute_result"
    }
   ],
   "source": [
    "from random import *\n",
    "import time\n",
    "a ,s= [randint(0,1000) for i in range(10000)] ,[]\n",
    "st = time.clock()\n",
    "s = msort(a)\n",
    "en = time.clock()\n",
    "du = en-st\n",
    "du"
   ]
  },
  {
   "cell_type": "code",
   "execution_count": 54,
   "metadata": {},
   "outputs": [
    {
     "data": {
      "text/plain": [
       "0.12010087380480172"
      ]
     },
     "execution_count": 54,
     "metadata": {},
     "output_type": "execute_result"
    }
   ],
   "source": [
    "from random import *\n",
    "import time\n",
    "a ,s= [randint(0,1000) for i in range(10000)] ,[]\n",
    "st = time.clock()\n",
    "s = quick_sort(a)\n",
    "en = time.clock()\n",
    "du = en-st\n",
    "du"
   ]
  },
  {
   "cell_type": "code",
   "execution_count": 72,
   "metadata": {},
   "outputs": [
    {
     "data": {
      "text/plain": [
       "0.004297434134400646"
      ]
     },
     "execution_count": 72,
     "metadata": {},
     "output_type": "execute_result"
    }
   ],
   "source": [
    "from random import *\n",
    "import time\n",
    "a ,s= [randint(0,1000) for i in range(10000)] ,[]\n",
    "st = time.clock()\n",
    "s = sorted(a)\n",
    "en = time.clock()\n",
    "du = en-st\n",
    "du"
   ]
  },
  {
   "cell_type": "code",
   "execution_count": 66,
   "metadata": {},
   "outputs": [
    {
     "data": {
      "text/plain": [
       "7.343586730712559e-05"
      ]
     },
     "execution_count": 66,
     "metadata": {},
     "output_type": "execute_result"
    }
   ],
   "source": [
    "from random import *\n",
    "import time\n",
    "st = time.clock()\n",
    "sorted(a)\n",
    "en = time.clock()\n",
    "du = en-st\n",
    "du"
   ]
  },
  {
   "cell_type": "code",
   "execution_count": null,
   "metadata": {},
   "outputs": [],
   "source": []
  }
 ],
 "metadata": {
  "kernelspec": {
   "display_name": "Python 3",
   "language": "python",
   "name": "python3"
  },
  "language_info": {
   "codemirror_mode": {
    "name": "ipython",
    "version": 3
   },
   "file_extension": ".py",
   "mimetype": "text/x-python",
   "name": "python",
   "nbconvert_exporter": "python",
   "pygments_lexer": "ipython3",
   "version": "3.6.5"
  }
 },
 "nbformat": 4,
 "nbformat_minor": 2
}
