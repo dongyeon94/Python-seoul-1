{
 "cells": [
  {
   "cell_type": "code",
   "execution_count": 1,
   "metadata": {},
   "outputs": [],
   "source": [
    "def f1(n):\n",
    "    for i in range(1,n+1):\n",
    "        print(*list(range(1,i+1)))"
   ]
  },
  {
   "cell_type": "code",
   "execution_count": 22,
   "metadata": {},
   "outputs": [],
   "source": [
    "def f2(n):\n",
    "    for i in range(1,n+1):\n",
    "        print(*list(range(int((i-1)*i/2) +1 ,int(i*(i+1)/2) +1)))"
   ]
  },
  {
   "cell_type": "code",
   "execution_count": 26,
   "metadata": {},
   "outputs": [],
   "source": [
    "def f3(n):\n",
    "    for i in range(1,n+1):\n",
    "        print(*list(range(int((i-1)*i/2) +1 ,int(i*(i+1)/2) +1)))\n",
    "    for i in range(n-1,0,-1):\n",
    "        print(*list(range(int((i-1)*i/2) +1 ,int(i*(i+1)/2) +1)))"
   ]
  },
  {
   "cell_type": "code",
   "execution_count": 201,
   "metadata": {},
   "outputs": [],
   "source": [
    "def f4(n):\n",
    "    count = 1\n",
    "    for i in range(1,2*n+1):  \n",
    "        if i>n:\n",
    "            i=2*n-i\n",
    "        count +=i\n",
    "        print(*list(range(count-i,count)))"
   ]
  },
  {
   "cell_type": "code",
   "execution_count": 202,
   "metadata": {},
   "outputs": [
    {
     "name": "stdout",
     "output_type": "stream",
     "text": [
      "1\n",
      "2 3\n",
      "4 5 6\n",
      "7 8 9 10\n",
      "11 12 13 14 15\n",
      "16 17 18 19\n",
      "20 21 22\n",
      "23 24\n",
      "25\n",
      "\n"
     ]
    }
   ],
   "source": [
    "f4(5)"
   ]
  },
  {
   "cell_type": "code",
   "execution_count": 125,
   "metadata": {},
   "outputs": [],
   "source": [
    "def f5(matrix):\n",
    "    for i in range(0,len(matrix)):\n",
    "        print(sum(matrix[i]))"
   ]
  },
  {
   "cell_type": "code",
   "execution_count": 57,
   "metadata": {},
   "outputs": [],
   "source": [
    "def f6(matrix):\n",
    "    return sum(map(sum,matrix))"
   ]
  },
  {
   "cell_type": "code",
   "execution_count": 1,
   "metadata": {},
   "outputs": [],
   "source": [
    "def f7(m):\n",
    "    res = []\n",
    "    for l in m:\n",
    "        res.append(int(reduce(lambda x,y: x*y,l)))\n",
    "    return reduce(lambda x,y: x*y, res)"
   ]
  },
  {
   "cell_type": "code",
   "execution_count": 92,
   "metadata": {},
   "outputs": [],
   "source": [
    "def f8(matrix):\n",
    "    for i in range(len(matrix)):\n",
    "         print(*list(filter(lambda x :x%2==1 , matrix[i])))"
   ]
  },
  {
   "cell_type": "code",
   "execution_count": 113,
   "metadata": {},
   "outputs": [],
   "source": [
    "def f9(matrix1, matrix2):\n",
    "    a = []\n",
    "    for i in range(len(matrix1)):\n",
    "         a.append(list(map(lambda x,y : x+y,matrix1[i],matrix2[i])))\n",
    "    return a"
   ]
  },
  {
   "cell_type": "code",
   "execution_count": 207,
   "metadata": {},
   "outputs": [],
   "source": [
    "def f10(m1, m2):\n",
    "    return list(map(lambda i:\n",
    "                    list(map(lambda j:\n",
    "                             sum(list(map(lambda k:\n",
    "                                          m1[i][k]*m2[k][j],list(range(len(m2)))))),\n",
    "                             list(range(len(m2[0]))))),\n",
    "                    list(range(len(m1)))))"
   ]
  },
  {
   "cell_type": "code",
   "execution_count": 205,
   "metadata": {},
   "outputs": [],
   "source": [
    "def f11(m):\n",
    "    comp = list(map(lambda i: list(map(lambda j: (i==j)*1+(i!=j)*0, list(range(len(m))))), list(range(len(m)))))\n",
    "    if m == comp:\n",
    "        return True\n",
    "    else:\n",
    "        return False"
   ]
  },
  {
   "cell_type": "code",
   "execution_count": 204,
   "metadata": {},
   "outputs": [
    {
     "data": {
      "text/plain": [
       "False"
      ]
     },
     "execution_count": 204,
     "metadata": {},
     "output_type": "execute_result"
    }
   ],
   "source": [
    "f11a([[0,0,0],[0,1,0],[0,0,1]])"
   ]
  },
  {
   "cell_type": "code",
   "execution_count": 206,
   "metadata": {},
   "outputs": [],
   "source": [
    "def f12(row, col):\n",
    "    return list(map(lambda i: list(map(lambda j: (i-1 >= 0) + (i+1 < row) + (j-1 >= 0) + (j+1 < col), list(range(col)))),\n",
    "                        list(range(row))))"
   ]
  },
  {
   "cell_type": "code",
   "execution_count": null,
   "metadata": {},
   "outputs": [],
   "source": []
  },
  {
   "cell_type": "code",
   "execution_count": null,
   "metadata": {},
   "outputs": [],
   "source": []
  },
  {
   "cell_type": "code",
   "execution_count": null,
   "metadata": {},
   "outputs": [],
   "source": []
  },
  {
   "cell_type": "code",
   "execution_count": null,
   "metadata": {},
   "outputs": [],
   "source": []
  },
  {
   "cell_type": "code",
   "execution_count": null,
   "metadata": {},
   "outputs": [],
   "source": []
  }
 ],
 "metadata": {
  "kernelspec": {
   "display_name": "Python 3",
   "language": "python",
   "name": "python3"
  },
  "language_info": {
   "codemirror_mode": {
    "name": "ipython",
    "version": 3
   },
   "file_extension": ".py",
   "mimetype": "text/x-python",
   "name": "python",
   "nbconvert_exporter": "python",
   "pygments_lexer": "ipython3",
   "version": "3.6.5"
  }
 },
 "nbformat": 4,
 "nbformat_minor": 2
}
