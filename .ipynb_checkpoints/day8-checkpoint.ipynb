{
 "cells": [
  {
   "cell_type": "code",
   "execution_count": 2,
   "metadata": {},
   "outputs": [
    {
     "name": "stdout",
     "output_type": "stream",
     "text": [
      "[1, 5, 3, 4, 5]    [1, 5, 3, 4, 5]    [1, 2, 3, 4, 5]\n"
     ]
    }
   ],
   "source": [
    "import copy\n",
    "l = [1,2,3,4,5]\n",
    "a = l\n",
    "s = copy.copy(l)\n",
    "l[1] = 5\n",
    "print(l,'  ',a,'  ',s)"
   ]
  },
  {
   "cell_type": "code",
   "execution_count": 4,
   "metadata": {},
   "outputs": [],
   "source": [
    "import copy\n",
    "a = [1,2,3]\n",
    "b = copy.copy(a)\n",
    "c = copy.deepcopy(a)\n",
    "d = list(a)\n",
    "e = a +[]\n",
    "f = a[:]"
   ]
  },
  {
   "cell_type": "code",
   "execution_count": null,
   "metadata": {},
   "outputs": [],
   "source": []
  },
  {
   "cell_type": "code",
   "execution_count": 21,
   "metadata": {},
   "outputs": [],
   "source": [
    "a,c,m = 1,7,12\n",
    "currnt =0\n",
    "def prng_seed(s):\n",
    "    global currnt\n",
    "    currnt = s\n",
    "def prng1(n):\n",
    "    return ((n+7) % 12)\n",
    "\n",
    "def prng():\n",
    "    currnt = prng1(currnt)\n",
    "    return currnt"
   ]
  },
  {
   "cell_type": "code",
   "execution_count": 24,
   "metadata": {},
   "outputs": [
    {
     "ename": "UnboundLocalError",
     "evalue": "local variable 'currnt' referenced before assignment",
     "output_type": "error",
     "traceback": [
      "\u001b[1;31m---------------------------------------------------------------------------\u001b[0m",
      "\u001b[1;31mUnboundLocalError\u001b[0m                         Traceback (most recent call last)",
      "\u001b[1;32m<ipython-input-24-b7e48d16f55d>\u001b[0m in \u001b[0;36m<module>\u001b[1;34m()\u001b[0m\n\u001b[0;32m      1\u001b[0m \u001b[0mprng_seed\u001b[0m\u001b[1;33m(\u001b[0m\u001b[1;36m1\u001b[0m\u001b[1;33m)\u001b[0m\u001b[1;33m\u001b[0m\u001b[0m\n\u001b[1;32m----> 2\u001b[1;33m \u001b[1;33m[\u001b[0m\u001b[0mprng\u001b[0m\u001b[1;33m(\u001b[0m\u001b[1;33m)\u001b[0m \u001b[1;32mfor\u001b[0m \u001b[0mi\u001b[0m \u001b[1;32min\u001b[0m \u001b[0mrange\u001b[0m\u001b[1;33m(\u001b[0m\u001b[1;36m10\u001b[0m\u001b[1;33m)\u001b[0m \u001b[1;33m]\u001b[0m\u001b[1;33m\u001b[0m\u001b[0m\n\u001b[0m",
      "\u001b[1;32m<ipython-input-24-b7e48d16f55d>\u001b[0m in \u001b[0;36m<listcomp>\u001b[1;34m(.0)\u001b[0m\n\u001b[0;32m      1\u001b[0m \u001b[0mprng_seed\u001b[0m\u001b[1;33m(\u001b[0m\u001b[1;36m1\u001b[0m\u001b[1;33m)\u001b[0m\u001b[1;33m\u001b[0m\u001b[0m\n\u001b[1;32m----> 2\u001b[1;33m \u001b[1;33m[\u001b[0m\u001b[0mprng\u001b[0m\u001b[1;33m(\u001b[0m\u001b[1;33m)\u001b[0m \u001b[1;32mfor\u001b[0m \u001b[0mi\u001b[0m \u001b[1;32min\u001b[0m \u001b[0mrange\u001b[0m\u001b[1;33m(\u001b[0m\u001b[1;36m10\u001b[0m\u001b[1;33m)\u001b[0m \u001b[1;33m]\u001b[0m\u001b[1;33m\u001b[0m\u001b[0m\n\u001b[0m",
      "\u001b[1;32m<ipython-input-21-0b111f385d33>\u001b[0m in \u001b[0;36mprng\u001b[1;34m()\u001b[0m\n\u001b[0;32m      8\u001b[0m \u001b[1;33m\u001b[0m\u001b[0m\n\u001b[0;32m      9\u001b[0m \u001b[1;32mdef\u001b[0m \u001b[0mprng\u001b[0m\u001b[1;33m(\u001b[0m\u001b[1;33m)\u001b[0m\u001b[1;33m:\u001b[0m\u001b[1;33m\u001b[0m\u001b[0m\n\u001b[1;32m---> 10\u001b[1;33m     \u001b[0mcurrnt\u001b[0m \u001b[1;33m=\u001b[0m \u001b[0mprng1\u001b[0m\u001b[1;33m(\u001b[0m\u001b[0mcurrnt\u001b[0m\u001b[1;33m)\u001b[0m\u001b[1;33m\u001b[0m\u001b[0m\n\u001b[0m\u001b[0;32m     11\u001b[0m     \u001b[1;32mreturn\u001b[0m \u001b[0mcurrnt\u001b[0m\u001b[1;33m\u001b[0m\u001b[0m\n",
      "\u001b[1;31mUnboundLocalError\u001b[0m: local variable 'currnt' referenced before assignment"
     ]
    }
   ],
   "source": [
    "prng_seed(1)\n",
    "[prng() for i in range(10) ]"
   ]
  },
  {
   "cell_type": "code",
   "execution_count": 29,
   "metadata": {},
   "outputs": [
    {
     "data": {
      "text/plain": [
       "11652"
      ]
     },
     "execution_count": 29,
     "metadata": {},
     "output_type": "execute_result"
    }
   ],
   "source": [
    "from random import randint         ####랜덤 라이브러리  import\n",
    "randint(0,15110)                   ### 0~ 15110 중에 랜덤한 수 한개 정수형으로"
   ]
  },
  {
   "cell_type": "code",
   "execution_count": 32,
   "metadata": {},
   "outputs": [
    {
     "data": {
      "text/plain": [
       "[91, 86, 72, 70, 66, 24, 98, 98, 13, 40, 24, 97, 98, 60, 88, 51, 5, 82, 41, 27]"
      ]
     },
     "execution_count": 32,
     "metadata": {},
     "output_type": "execute_result"
    }
   ],
   "source": [
    "from random import randint         ####랜덤 라이브러리  import\n",
    "[randint(0,99)for i in range(20) ]               ### 0~ 15110 중에 랜덤한 수 리스트로 for 문  20개 돌려서 저장ㄴ 정수형으로\n"
   ]
  },
  {
   "cell_type": "code",
   "execution_count": 36,
   "metadata": {},
   "outputs": [
    {
     "data": {
      "text/plain": [
       "[9.480021419852108,\n",
       " 4.110082460373661,\n",
       " 1.9871967448858363,\n",
       " 0.30130031182544537,\n",
       " 7.108432986741048]"
      ]
     },
     "execution_count": 36,
     "metadata": {},
     "output_type": "execute_result"
    }
   ],
   "source": [
    "from random import random\n",
    "[random() for i in range(5)]"
   ]
  },
  {
   "cell_type": "code",
   "execution_count": 40,
   "metadata": {},
   "outputs": [
    {
     "data": {
      "text/plain": [
       "[5.42410320230769,\n",
       " 4.506587159254105,\n",
       " 3.558145168628097,\n",
       " 3.1239887998035516,\n",
       " 1.84254163393816,\n",
       " 5.792949410736665,\n",
       " 4.777805196270233,\n",
       " 8.59449783889989,\n",
       " 6.298623274287336,\n",
       " 2.821329622236724]"
      ]
     },
     "execution_count": 40,
     "metadata": {},
     "output_type": "execute_result"
    }
   ],
   "source": [
    "from random import uniform\n",
    "[uniform(1,10) for i in range(10)]                    ### random 라이브러리 중에 uniform 함수  ( )안에 레인지 값 중에 뽑아냄"
   ]
  },
  {
   "cell_type": "code",
   "execution_count": 45,
   "metadata": {},
   "outputs": [
    {
     "data": {
      "text/plain": [
       "[6.959785691917242,\n",
       " 6.483174647077715,\n",
       " 6.985602301697246,\n",
       " 6.804610359982993,\n",
       " 4.672796207012308]"
      ]
     },
     "execution_count": 45,
     "metadata": {},
     "output_type": "execute_result"
    }
   ],
   "source": [
    "from random import random\n",
    "[random()*10 for i in range(5)]         #### [uniform(1,10) for i in range(10)] 똑같음\n"
   ]
  },
  {
   "cell_type": "code",
   "execution_count": 54,
   "metadata": {},
   "outputs": [
    {
     "data": {
      "text/plain": [
       "[2, 4, 8, 2, 0, 6, 2, 2, 6, 6]"
      ]
     },
     "execution_count": 54,
     "metadata": {},
     "output_type": "execute_result"
    }
   ],
   "source": [
    "from random import randrange\n",
    "[randrange(0,10,2) for i in range(10)]                  ###  0~10까지 2의 배수 중에 10개 "
   ]
  },
  {
   "cell_type": "code",
   "execution_count": null,
   "metadata": {},
   "outputs": [],
   "source": []
  },
  {
   "cell_type": "code",
   "execution_count": 44,
   "metadata": {},
   "outputs": [
    {
     "data": {
      "text/plain": [
       "2"
      ]
     },
     "execution_count": 44,
     "metadata": {},
     "output_type": "execute_result"
    }
   ],
   "source": [
    "import math\n",
    "a = 1.1251231515\n",
    "math.ceil(a)                        ### 실링 해줌  ,, 올림 해줌"
   ]
  },
  {
   "cell_type": "code",
   "execution_count": null,
   "metadata": {},
   "outputs": [],
   "source": []
  },
  {
   "cell_type": "code",
   "execution_count": 58,
   "metadata": {},
   "outputs": [
    {
     "data": {
      "text/plain": [
       "['blue', 'black', 'green', 'green', 'black']"
      ]
     },
     "execution_count": 58,
     "metadata": {},
     "output_type": "execute_result"
    }
   ],
   "source": [
    "from random import *\n",
    "colors = ['red','blue','green','gary','black']      ## colors  중에 하나씩 뽑아서 5개 리스트 만듬\n",
    "[choice(colors) for i in range(5)]"
   ]
  },
  {
   "cell_type": "code",
   "execution_count": 61,
   "metadata": {},
   "outputs": [
    {
     "data": {
      "text/plain": [
       "['red', 'black']"
      ]
     },
     "execution_count": 61,
     "metadata": {},
     "output_type": "execute_result"
    }
   ],
   "source": [
    "from random import *\n",
    "colors = ['red','blue','green','gary','black']         ##### colors  중에서 2개를 뽑아서 리스트로 출력\n",
    "sample(colors,2)"
   ]
  },
  {
   "cell_type": "code",
   "execution_count": 64,
   "metadata": {},
   "outputs": [
    {
     "data": {
      "text/plain": [
       "['black', 'red', 'green', 'blue', 'gary']"
      ]
     },
     "execution_count": 64,
     "metadata": {},
     "output_type": "execute_result"
    }
   ],
   "source": [
    "from random import *\n",
    "colors = ['red','blue','green','gary','black']\n",
    "shuffle(colors)                                 ### colors 의 인덱스 순서를 막 섞음\n",
    "colors"
   ]
  },
  {
   "cell_type": "code",
   "execution_count": null,
   "metadata": {},
   "outputs": [],
   "source": []
  },
  {
   "cell_type": "code",
   "execution_count": 68,
   "metadata": {},
   "outputs": [],
   "source": [
    "def election_year(n):\n",
    "    year = n\n",
    "    assert 1788 <= year and year <= 2012 and year %4 ==0            ### assert 는  조건에 만족하지 않으면 프로그램 그 시점에서 끝\n",
    "    return year"
   ]
  },
  {
   "cell_type": "code",
   "execution_count": 73,
   "metadata": {},
   "outputs": [],
   "source": [
    "def election_year():\n",
    "    election_number = prng() % ((2012-1788) //4 +1)\n",
    "    assert 0 <= election_number and election_number <= 56\n",
    "    year = 0\n",
    "    assert 1788 <= year and year <= 2012 and year %4 ==0\n",
    "    return year"
   ]
  },
  {
   "cell_type": "code",
   "execution_count": null,
   "metadata": {},
   "outputs": [],
   "source": []
  },
  {
   "cell_type": "code",
   "execution_count": null,
   "metadata": {},
   "outputs": [],
   "source": []
  },
  {
   "cell_type": "code",
   "execution_count": 76,
   "metadata": {},
   "outputs": [],
   "source": [
    "from random import*\n",
    "def dice(tri):\n",
    "    roll = randint(1,6)\n",
    "    roll2 = randint(1,6)\n",
    "    \n",
    "    count_list = []\n",
    "    count_prob = []\n",
    "\n",
    "    for i in range(tri):\n",
    "        value1 = roll\n",
    "        value2 = roll2\n",
    "    dice_index = value1 + value2-2\n",
    "    count_list[dice_index] = count_list[dice_index]+1\n",
    "    \n",
    "    for j in range(0,11):\n",
    "        count_prob[j] = count_list/ tri\n",
    "        print(',,,,',j+2,\":\",count_prob[j])"
   ]
  },
  {
   "cell_type": "code",
   "execution_count": 77,
   "metadata": {},
   "outputs": [
    {
     "ename": "IndexError",
     "evalue": "list index out of range",
     "output_type": "error",
     "traceback": [
      "\u001b[1;31m---------------------------------------------------------------------------\u001b[0m",
      "\u001b[1;31mIndexError\u001b[0m                                Traceback (most recent call last)",
      "\u001b[1;32m<ipython-input-77-d2657b318157>\u001b[0m in \u001b[0;36m<module>\u001b[1;34m()\u001b[0m\n\u001b[1;32m----> 1\u001b[1;33m \u001b[0mdice\u001b[0m\u001b[1;33m(\u001b[0m\u001b[1;36m100\u001b[0m\u001b[1;33m)\u001b[0m\u001b[1;33m\u001b[0m\u001b[0m\n\u001b[0m",
      "\u001b[1;32m<ipython-input-76-c1511a5f7e99>\u001b[0m in \u001b[0;36mdice\u001b[1;34m(tri)\u001b[0m\n\u001b[0;32m     11\u001b[0m         \u001b[0mvalue2\u001b[0m \u001b[1;33m=\u001b[0m \u001b[0mroll2\u001b[0m\u001b[1;33m\u001b[0m\u001b[0m\n\u001b[0;32m     12\u001b[0m     \u001b[0mdice_index\u001b[0m \u001b[1;33m=\u001b[0m \u001b[0mvalue1\u001b[0m \u001b[1;33m+\u001b[0m \u001b[0mvalue2\u001b[0m\u001b[1;33m-\u001b[0m\u001b[1;36m2\u001b[0m\u001b[1;33m\u001b[0m\u001b[0m\n\u001b[1;32m---> 13\u001b[1;33m     \u001b[0mcount_list\u001b[0m\u001b[1;33m[\u001b[0m\u001b[0mdice_index\u001b[0m\u001b[1;33m]\u001b[0m \u001b[1;33m=\u001b[0m \u001b[0mcount_list\u001b[0m\u001b[1;33m[\u001b[0m\u001b[0mdice_index\u001b[0m\u001b[1;33m]\u001b[0m\u001b[1;33m+\u001b[0m\u001b[1;36m1\u001b[0m\u001b[1;33m\u001b[0m\u001b[0m\n\u001b[0m\u001b[0;32m     14\u001b[0m \u001b[1;33m\u001b[0m\u001b[0m\n\u001b[0;32m     15\u001b[0m     \u001b[1;32mfor\u001b[0m \u001b[0mj\u001b[0m \u001b[1;32min\u001b[0m \u001b[0mrange\u001b[0m\u001b[1;33m(\u001b[0m\u001b[1;36m0\u001b[0m\u001b[1;33m,\u001b[0m\u001b[1;36m11\u001b[0m\u001b[1;33m)\u001b[0m\u001b[1;33m:\u001b[0m\u001b[1;33m\u001b[0m\u001b[0m\n",
      "\u001b[1;31mIndexError\u001b[0m: list index out of range"
     ]
    }
   ],
   "source": [
    "dice(100)"
   ]
  },
  {
   "cell_type": "code",
   "execution_count": null,
   "metadata": {},
   "outputs": [],
   "source": []
  },
  {
   "cell_type": "code",
   "execution_count": 82,
   "metadata": {},
   "outputs": [],
   "source": [
    "from random import*\n",
    "def roll():                                   ### hungry dice\n",
    "    return randint(1,6)"
   ]
  },
  {
   "cell_type": "code",
   "execution_count": 96,
   "metadata": {},
   "outputs": [],
   "source": [
    "def dice_game():\n",
    "    strikes = 0\n",
    "    winning = 0\n",
    "    while strikes <3 :                       ### hungry dice    주사위를 돌려서  strikes 가 3 이하일때 주사위 숫자가 같을때까지 \n",
    "        diel = roll()                        ###                반복문이 돌아간 횟수\n",
    "        diel2 = roll()\n",
    "        if diel == diel2:\n",
    "            strikes = strikes+1\n",
    "        else:\n",
    "            winning = winning + diel + diel2\n",
    "    return winning"
   ]
  },
  {
   "cell_type": "code",
   "execution_count": 97,
   "metadata": {},
   "outputs": [
    {
     "data": {
      "text/plain": [
       "173"
      ]
     },
     "execution_count": 97,
     "metadata": {},
     "output_type": "execute_result"
    }
   ],
   "source": [
    "dice_game()"
   ]
  },
  {
   "cell_type": "code",
   "execution_count": 102,
   "metadata": {},
   "outputs": [],
   "source": [
    "def average(runs):\n",
    "    total = 0\n",
    "    for n in range(runs):                          #########     runs 을 한 횟수에서 평균적인 게임 횟수\n",
    "        total = total+ dice_game()\n",
    "    return total/runs"
   ]
  },
  {
   "cell_type": "code",
   "execution_count": 105,
   "metadata": {},
   "outputs": [
    {
     "data": {
      "text/plain": [
       "105.76"
      ]
     },
     "execution_count": 105,
     "metadata": {},
     "output_type": "execute_result"
    }
   ],
   "source": [
    "average(100)"
   ]
  },
  {
   "cell_type": "code",
   "execution_count": null,
   "metadata": {},
   "outputs": [],
   "source": []
  },
  {
   "cell_type": "code",
   "execution_count": null,
   "metadata": {},
   "outputs": [],
   "source": []
  },
  {
   "cell_type": "code",
   "execution_count": 111,
   "metadata": {},
   "outputs": [],
   "source": [
    "from random import*\n",
    "def cor(n):\n",
    "    a ,count= sorted(list(range(n))) , 0               ####  숫자를찍었을때 정답을 맞출 확률 ,,, \n",
    "    b = shuffle(a)\n",
    "    for i in range(len(a)):\n",
    "        if a[i] == i:\n",
    "            count+=1\n",
    "    return count\n",
    "    "
   ]
  },
  {
   "cell_type": "code",
   "execution_count": 126,
   "metadata": {},
   "outputs": [
    {
     "data": {
      "text/plain": [
       "0"
      ]
     },
     "execution_count": 126,
     "metadata": {},
     "output_type": "execute_result"
    }
   ],
   "source": [
    "cor(1000)"
   ]
  },
  {
   "cell_type": "code",
   "execution_count": 1,
   "metadata": {},
   "outputs": [],
   "source": [
    "from random import*\n",
    "def student(pairs, samples):\n",
    "    num_corr = 0\n",
    "    matching  = list(range(samples))\n",
    "    for i in range(samples):                            ###   5개를 찍어 맞출 확률   samples 갯수와 맞추는 확률 비교  \n",
    "        shuffle(matching)\n",
    "        for j in range(pairs):\n",
    "            if matching[j] == j:\n",
    "                num_corr+= 1\n",
    "    return num_corr/samples"
   ]
  },
  {
   "cell_type": "code",
   "execution_count": 2,
   "metadata": {},
   "outputs": [
    {
     "data": {
      "text/plain": [
       "0.005"
      ]
     },
     "execution_count": 2,
     "metadata": {},
     "output_type": "execute_result"
    }
   ],
   "source": [
    "student(5,1000)"
   ]
  },
  {
   "cell_type": "code",
   "execution_count": null,
   "metadata": {},
   "outputs": [],
   "source": []
  },
  {
   "cell_type": "code",
   "execution_count": null,
   "metadata": {},
   "outputs": [],
   "source": []
  },
  {
   "cell_type": "code",
   "execution_count": 7,
   "metadata": {},
   "outputs": [],
   "source": [
    "from random import *                    ### 비올 확률이 p% 일때 비안 맞고 진행된 횟수  비맞으면 게임 끝\n",
    "def rainwet(p):                         ###  p는 1 이하로 넣어야됨 %니까\n",
    "    wet  = False\n",
    "    trips= 0\n",
    "    location = 0 \n",
    "    umbrella = [1,1]\n",
    "    \n",
    "    while (not wet):\n",
    "        if random() < p:\n",
    "            if umbrella[location] ==0 :\n",
    "                wet =True\n",
    "            else:\n",
    "                trips += 1\n",
    "                umbrella[location] -=1\n",
    "                location = 1- location\n",
    "                umbrella[location] +=1\n",
    "        else:\n",
    "            trips += 1\n",
    "            location = 1 - location\n",
    "    return trips"
   ]
  },
  {
   "cell_type": "code",
   "execution_count": 18,
   "metadata": {},
   "outputs": [
    {
     "data": {
      "text/plain": [
       "46"
      ]
     },
     "execution_count": 18,
     "metadata": {},
     "output_type": "execute_result"
    }
   ],
   "source": [
    "rainwet(0.11)"
   ]
  },
  {
   "cell_type": "code",
   "execution_count": null,
   "metadata": {},
   "outputs": [],
   "source": []
  },
  {
   "cell_type": "code",
   "execution_count": null,
   "metadata": {},
   "outputs": [],
   "source": []
  },
  {
   "cell_type": "code",
   "execution_count": null,
   "metadata": {},
   "outputs": [],
   "source": [
    "ㄴ"
   ]
  },
  {
   "cell_type": "code",
   "execution_count": null,
   "metadata": {},
   "outputs": [],
   "source": []
  }
 ],
 "metadata": {
  "kernelspec": {
   "display_name": "Python 3",
   "language": "python",
   "name": "python3"
  },
  "language_info": {
   "codemirror_mode": {
    "name": "ipython",
    "version": 3
   },
   "file_extension": ".py",
   "mimetype": "text/x-python",
   "name": "python",
   "nbconvert_exporter": "python",
   "pygments_lexer": "ipython3",
   "version": "3.6.5"
  }
 },
 "nbformat": 4,
 "nbformat_minor": 2
}
