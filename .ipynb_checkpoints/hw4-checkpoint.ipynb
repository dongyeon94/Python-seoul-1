{
 "cells": [
  {
   "cell_type": "code",
   "execution_count": 4,
   "metadata": {},
   "outputs": [],
   "source": [
    "def selsort(nums):              ### 1번  select sort    time \n",
    "    \n",
    "    n = len(nums)\n",
    "    for bottom in range(n-1):\n",
    "        \n",
    "        mp = bottom\n",
    "        for i in range(bottom+1,n):\n",
    "            if nums[i] < nums[mp]:\n",
    "                mp = i\n",
    "        nums[bottom], nums[mp] = nums[mp], nums[bottom]\n",
    "    return nums"
   ]
  },
  {
   "cell_type": "code",
   "execution_count": 61,
   "metadata": {},
   "outputs": [
    {
     "data": {
      "text/plain": [
       "((45, [0, 212, 330, 364, 371, 390, 397, 583, 634, 708]), 7.138458613553667e-05)"
      ]
     },
     "execution_count": 61,
     "metadata": {},
     "output_type": "execute_result"
    }
   ],
   "source": [
    "from random import *\n",
    "import time\n",
    "a ,s= [randint(0,1000) for i in range(10)] ,[]\n",
    "\n",
    "\n",
    "st = time.clock()\n",
    "s = selsort(a)\n",
    "en = time.clock()\n",
    "du = en-st\n",
    "s, du"
   ]
  },
  {
   "cell_type": "code",
   "execution_count": null,
   "metadata": {},
   "outputs": [],
   "source": []
  },
  {
   "cell_type": "code",
   "execution_count": 18,
   "metadata": {},
   "outputs": [],
   "source": [
    "def selsort(nums):              ### 1번  select sort\n",
    "    \n",
    "    n = len(nums)\n",
    "    count =0\n",
    "    for bottom in range(n-1):\n",
    "        \n",
    "        mp = bottom\n",
    "        for i in range(bottom+1,n):\n",
    "            count +=1\n",
    "            if nums[i] < nums[mp]:\n",
    "                mp = i\n",
    "        nums[bottom], nums[mp] = nums[mp], nums[bottom]\n",
    "    return count, nums"
   ]
  },
  {
   "cell_type": "code",
   "execution_count": 19,
   "metadata": {
    "scrolled": true
   },
   "outputs": [
    {
     "name": "stdout",
     "output_type": "stream",
     "text": [
      "(45, [21, 37, 84, 85, 313, 418, 423, 489, 800, 811])\n"
     ]
    }
   ],
   "source": [
    "from random import *\n",
    "a ,s= [randint(0,1000) for i in range(10)] ,[]\n",
    "s = selsort(a)\n",
    "print(s)"
   ]
  },
  {
   "cell_type": "code",
   "execution_count": 9,
   "metadata": {},
   "outputs": [
    {
     "name": "stdout",
     "output_type": "stream",
     "text": [
      "before :\n",
      " [485, 837, 973, 779, 230, 838, 178, 473, 709, 630]\n",
      "After :\n",
      " (45, [178, 230, 473, 485, 630, 709, 779, 837, 838, 973])\n"
     ]
    }
   ],
   "source": [
    "from random import *\n",
    "s = []\n",
    "random_items =[randint(0,1000) for c in range(10)]\n",
    "print('before :\\n',random_items)\n",
    "s = selsort(random_items)\n",
    "print('After :\\n',s)"
   ]
  },
  {
   "cell_type": "code",
   "execution_count": null,
   "metadata": {},
   "outputs": [],
   "source": []
  },
  {
   "cell_type": "code",
   "execution_count": null,
   "metadata": {},
   "outputs": [],
   "source": []
  },
  {
   "cell_type": "code",
   "execution_count": 24,
   "metadata": {},
   "outputs": [],
   "source": [
    "def insertion_sort(items):               ### 2번  insertion sort      time\n",
    "    for i in range(1,len(items)):\n",
    "        j = i\n",
    "        while j >0 and items[j] < items[j-1]:\n",
    "            items[j], items[j-1] = items[j-1], items[j]\n",
    "            j -=1\n",
    "    return items"
   ]
  },
  {
   "cell_type": "code",
   "execution_count": 25,
   "metadata": {},
   "outputs": [
    {
     "data": {
      "text/plain": [
       "([256, 262, 283, 408, 411, 561, 566, 598, 604, 676], 7.343586730712559e-05)"
      ]
     },
     "execution_count": 25,
     "metadata": {},
     "output_type": "execute_result"
    }
   ],
   "source": [
    "from random import *\n",
    "import time\n",
    "a ,s= [randint(0,1000) for i in range(10)] ,[]\n",
    "st = time.clock()\n",
    "s = insertion_sort(a)\n",
    "en = time.clock()\n",
    "du = en-st\n",
    "s, du"
   ]
  },
  {
   "cell_type": "code",
   "execution_count": null,
   "metadata": {},
   "outputs": [],
   "source": []
  },
  {
   "cell_type": "code",
   "execution_count": 10,
   "metadata": {},
   "outputs": [],
   "source": [
    "def insertion_sort(items):               ### 2번  insertion sort\n",
    "    count =0\n",
    "    for i in range(1,len(items)):\n",
    "        j = i\n",
    "        while j >0 and items[j] < items[j-1]:\n",
    "            count += 1\n",
    "            items[j], items[j-1] = items[j-1], items[j]\n",
    "            j -=1\n",
    "    return count , items"
   ]
  },
  {
   "cell_type": "code",
   "execution_count": 50,
   "metadata": {},
   "outputs": [
    {
     "name": "stdout",
     "output_type": "stream",
     "text": [
      "(19, [127, 145, 293, 436, 484, 558, 622, 709, 728, 928])\n"
     ]
    }
   ],
   "source": [
    "from random import *\n",
    "s = []\n",
    "random_items =[randint(0,1000) for c in range(10)]\n",
    "s = insertion_sort(random_items)\n",
    "print(s)"
   ]
  },
  {
   "cell_type": "code",
   "execution_count": null,
   "metadata": {},
   "outputs": [],
   "source": []
  },
  {
   "cell_type": "code",
   "execution_count": null,
   "metadata": {},
   "outputs": [],
   "source": []
  },
  {
   "cell_type": "code",
   "execution_count": 29,
   "metadata": {},
   "outputs": [],
   "source": [
    "def buble_sort(items):              #### 3번 buble sort   time\n",
    "    for i in range(len(items)):\n",
    "        for j in range(len(items)-1-i):\n",
    "            if items[j]> i:\n",
    "                items[j], items[j+1] = items[j+1], items[j]\n",
    "    return  items"
   ]
  },
  {
   "cell_type": "code",
   "execution_count": 35,
   "metadata": {},
   "outputs": [
    {
     "data": {
      "text/plain": [
       "([634, 249, 372, 983, 385, 887, 362, 894, 418, 92], 7.917945470126142e-05)"
      ]
     },
     "execution_count": 35,
     "metadata": {},
     "output_type": "execute_result"
    }
   ],
   "source": [
    "from random import *\n",
    "import time\n",
    "a ,s= [randint(0,1000) for i in range(10)] ,[]\n",
    "st = time.clock()\n",
    "s = buble_sort(a)\n",
    "en = time.clock()\n",
    "du = en-st\n",
    "s, du"
   ]
  },
  {
   "cell_type": "code",
   "execution_count": null,
   "metadata": {},
   "outputs": [],
   "source": []
  },
  {
   "cell_type": "code",
   "execution_count": null,
   "metadata": {},
   "outputs": [],
   "source": []
  },
  {
   "cell_type": "code",
   "execution_count": 45,
   "metadata": {},
   "outputs": [],
   "source": [
    "def buble_sort(items):              #### 3번 buble sort\n",
    "    count =0\n",
    "    for i in range(len(items)):\n",
    "        for j in range(len(items)-1-i):\n",
    "            if items[j]> items[j+1]:\n",
    "                count += 1\n",
    "                items[j], items[j+1] = items[j+1], items[j]\n",
    "    return count , items"
   ]
  },
  {
   "cell_type": "code",
   "execution_count": 46,
   "metadata": {},
   "outputs": [
    {
     "name": "stdout",
     "output_type": "stream",
     "text": [
      "(25, [0, 86, 167, 174, 182, 296, 372, 602, 905, 974])\n"
     ]
    }
   ],
   "source": [
    "from random import *\n",
    "s = []\n",
    "random_items =[randint(0,1000) for c in range(10)]\n",
    "s = buble_sort(random_items)\n",
    "print(s)"
   ]
  },
  {
   "cell_type": "code",
   "execution_count": null,
   "metadata": {},
   "outputs": [],
   "source": []
  },
  {
   "cell_type": "code",
   "execution_count": null,
   "metadata": {},
   "outputs": [],
   "source": []
  },
  {
   "cell_type": "code",
   "execution_count": 36,
   "metadata": {},
   "outputs": [],
   "source": [
    "def merge(a, b):                   \n",
    "    index_a = 0                      ### merge sort [1/2]     timee\n",
    "    index_b = 0\n",
    "    c = []\n",
    "    while index_a < len(a) and index_b < len(b):\n",
    "        if a[index_a] <= b[index_b]:\n",
    "            c.append(a[index_a])\n",
    "            index_a = index_a + 1\n",
    "        else:\n",
    "            c.append(b[index_b])\n",
    "            index_b = index_b +1\n",
    "    \n",
    "    c.extend(a[index_a:])\n",
    "    c.extend(b[index_b:])\n",
    "    return  c\n",
    "        "
   ]
  },
  {
   "cell_type": "code",
   "execution_count": 37,
   "metadata": {},
   "outputs": [],
   "source": [
    "def msort(list):           ### merge sort [2/2]      time\n",
    "    if len(list) == 0 or len(list) == 1:\n",
    "        return list[:len(list)]\n",
    "    halfway = len(list) // 2\n",
    "    list1 = list[0:halfway]\n",
    "    list2 = list[halfway:len(list)]\n",
    "    newlist1 = msort(list1)\n",
    "    newlist2 = msort(list2)\n",
    "    newlist = merge(newlist1,newlist2)\n",
    "    \n",
    "    return newlist"
   ]
  },
  {
   "cell_type": "code",
   "execution_count": 82,
   "metadata": {},
   "outputs": [
    {
     "data": {
      "text/plain": [
       "([95, 184, 207, 341, 385, 413, 469, 488, 645, 940], 9.312816700912663e-05)"
      ]
     },
     "execution_count": 82,
     "metadata": {},
     "output_type": "execute_result"
    }
   ],
   "source": [
    "from random import *\n",
    "import time\n",
    "a ,s= [randint(0,1000) for i in range(10)] ,[]\n",
    "st = time.clock()\n",
    "s = msort(a)\n",
    "en = time.clock()\n",
    "du = en-st\n",
    "s, du"
   ]
  },
  {
   "cell_type": "code",
   "execution_count": null,
   "metadata": {},
   "outputs": [],
   "source": []
  },
  {
   "cell_type": "code",
   "execution_count": null,
   "metadata": {},
   "outputs": [],
   "source": []
  },
  {
   "cell_type": "code",
   "execution_count": 8,
   "metadata": {},
   "outputs": [],
   "source": [
    "def merge(a, b):                   \n",
    "    index_a = 0                      ### merge sort [1/2]\n",
    "    index_b = 0\n",
    "    c = []\n",
    "    while index_a < len(a) and index_b < len(b):\n",
    "        if a[index_a] <= b[index_b]:\n",
    "            c.append(a[index_a])\n",
    "            index_a = index_a + 1\n",
    "        else:\n",
    "            c.append(b[index_b])\n",
    "            index_b = index_b +1\n",
    "    \n",
    "    c.extend(a[index_a:])\n",
    "    c.extend(b[index_b:])\n",
    "    return  c\n",
    "        "
   ]
  },
  {
   "cell_type": "code",
   "execution_count": 12,
   "metadata": {},
   "outputs": [],
   "source": [
    "def msort(list):           ### merge sort [2/2]\n",
    "    if len(list) == 0 or len(list) == 1:\n",
    "        return list[:len(list)]\n",
    "    halfway = len(list) // 2\n",
    "    list1 = list[0:halfway]\n",
    "    list2 = list[halfway:len(list)]\n",
    "    newlist1 = msort(list1)\n",
    "    newlist2 = msort(list2)\n",
    "    newlist = merge(newlist1,newlist2)\n",
    "    \n",
    "    return newlist"
   ]
  },
  {
   "cell_type": "code",
   "execution_count": 14,
   "metadata": {},
   "outputs": [
    {
     "name": "stdout",
     "output_type": "stream",
     "text": [
      "[85, 48, 79, 93, 24, 42, 58, 18, 88, 63]\n",
      "[18, 24, 42, 48, 58, 63, 79, 85, 88, 93]\n"
     ]
    }
   ],
   "source": [
    "from random import *\n",
    "s,a = [],[]\n",
    "random_items =[randint(1,100) for c in range(10)]\n",
    "s = msort(random_items)\n",
    "for i in range(len(s)):\n",
    "    if s[i] <10000:\n",
    "        a.append(s[i])\n",
    "print(random_items)\n",
    "print(s)"
   ]
  },
  {
   "cell_type": "code",
   "execution_count": null,
   "metadata": {},
   "outputs": [],
   "source": []
  },
  {
   "cell_type": "code",
   "execution_count": null,
   "metadata": {},
   "outputs": [],
   "source": []
  },
  {
   "cell_type": "code",
   "execution_count": 40,
   "metadata": {},
   "outputs": [],
   "source": [
    "def quick_sort(items):                 ######  5번쨰 quick sort   time\n",
    "    if len(items) >1:\n",
    "        pivot_index = len(items)//2\n",
    "        smaller_items =[]\n",
    "        larger_items  = []\n",
    "        \n",
    "     \n",
    "        for i ,val in enumerate(items):\n",
    "            \n",
    "            if i != pivot_index:\n",
    "                if val < items[pivot_index]:\n",
    "                    smaller_items.append(val)\n",
    "                    \n",
    "                else:\n",
    "                    larger_items.append(val)\n",
    "                    \n",
    "         \n",
    "        quick_sort(smaller_items)\n",
    "        quick_sort(larger_items)\n",
    "        items[:] = smaller_items + [items[pivot_index]] + larger_items\n",
    "    return   items"
   ]
  },
  {
   "cell_type": "code",
   "execution_count": 101,
   "metadata": {},
   "outputs": [
    {
     "data": {
      "text/plain": [
       "([68, 126, 142, 242, 283, 289, 461, 568, 689, 928], 7.466663623745262e-05)"
      ]
     },
     "execution_count": 101,
     "metadata": {},
     "output_type": "execute_result"
    }
   ],
   "source": [
    "from random import *\n",
    "import time\n",
    "a ,s= [randint(0,1000) for i in range(10)] ,[]\n",
    "st = time.clock()\n",
    "s = quick_sort(a)\n",
    "en = time.clock()\n",
    "du = en-st\n",
    "s, du"
   ]
  },
  {
   "cell_type": "code",
   "execution_count": 105,
   "metadata": {},
   "outputs": [
    {
     "data": {
      "text/plain": [
       "([174, 194, 199, 240, 363, 537, 754, 759, 805, 838], 5.6615361472722725e-05)"
      ]
     },
     "execution_count": 105,
     "metadata": {},
     "output_type": "execute_result"
    }
   ],
   "source": [
    "from random import *\n",
    "import time\n",
    "a ,s= [randint(0,1000) for i in range(10)] ,[]\n",
    "st = time.clock()\n",
    "s = sorted(a)\n",
    "en = time.clock()\n",
    "du = en-st\n",
    "s, du"
   ]
  },
  {
   "cell_type": "code",
   "execution_count": null,
   "metadata": {},
   "outputs": [],
   "source": []
  },
  {
   "cell_type": "code",
   "execution_count": 156,
   "metadata": {},
   "outputs": [],
   "source": [
    "def quick_sort(items):                 ######  5번쨰 quick sort\n",
    "    count =0\n",
    "    if len(items) >1:\n",
    "        pivot_index = len(items)//2\n",
    "        smaller_items =[]\n",
    "        larger_items  = []\n",
    "        \n",
    "     \n",
    "        for i ,val in enumerate(items):\n",
    "            \n",
    "            if i != pivot_index:\n",
    "                count +=1\n",
    "                if val < items[pivot_index]:\n",
    "                    smaller_items.append(val)\n",
    "                    \n",
    "                else:\n",
    "                    larger_items.append(val)\n",
    "                    \n",
    "         \n",
    "        quick_sort(smaller_items)\n",
    "        quick_sort(larger_items)\n",
    "        items[:] = smaller_items + [items[pivot_index]] + larger_items\n",
    "    return  count,  items"
   ]
  },
  {
   "cell_type": "code",
   "execution_count": 157,
   "metadata": {},
   "outputs": [
    {
     "name": "stdout",
     "output_type": "stream",
     "text": [
      "(5, [84, 150, 437, 613, 739, 873])\n"
     ]
    }
   ],
   "source": [
    "from random import *\n",
    "s = []\n",
    "random_items =[randint(0,1000) for c in range(6)]\n",
    "s = quick_sort(random_items)\n",
    "print(s)"
   ]
  },
  {
   "cell_type": "code",
   "execution_count": null,
   "metadata": {},
   "outputs": [],
   "source": []
  },
  {
   "cell_type": "code",
   "execution_count": null,
   "metadata": {},
   "outputs": [],
   "source": []
  },
  {
   "cell_type": "code",
   "execution_count": null,
   "metadata": {},
   "outputs": [],
   "source": []
  },
  {
   "cell_type": "code",
   "execution_count": null,
   "metadata": {},
   "outputs": [],
   "source": []
  },
  {
   "cell_type": "code",
   "execution_count": null,
   "metadata": {},
   "outputs": [],
   "source": []
  },
  {
   "cell_type": "code",
   "execution_count": null,
   "metadata": {},
   "outputs": [],
   "source": []
  },
  {
   "cell_type": "code",
   "execution_count": null,
   "metadata": {},
   "outputs": [],
   "source": []
  },
  {
   "cell_type": "code",
   "execution_count": 15,
   "metadata": {},
   "outputs": [
    {
     "name": "stdout",
     "output_type": "stream",
     "text": [
      "before : [63, 54, 0, 46, 7, 80, -48, 53, 76, -48, 89, 41, 22, -1, 12, 63, 23, 1, 30, -7, -35, -1, 14, -19, 63, 81, 60, 58, -41, 74, 90, 46]\n",
      "After : [-48, -48, -41, -35, -19, -7, -1, -1, 0, 1, 7, 12, 14, 22, 23, 30, 41, 46, 46, 53, 54, 58, 60, 63, 63, 63, 74, 76, 80, 81, 89, 90]\n"
     ]
    }
   ],
   "source": [
    "import random\n",
    "random_items =[random.randint(-50,100) for c in range(32)]\n",
    "print('before :',random_items)\n",
    "insertion_sort(random_items)\n",
    "print('After :',random_items)"
   ]
  },
  {
   "cell_type": "code",
   "execution_count": 44,
   "metadata": {},
   "outputs": [
    {
     "data": {
      "text/plain": [
       "0.0006477948718384141"
      ]
     },
     "execution_count": 44,
     "metadata": {},
     "output_type": "execute_result"
    }
   ],
   "source": [
    "from random import *\n",
    "import time\n",
    "##a1 =[random.randint(-50,100) for c in range(32)]\n",
    "a = [randrange(1000) for i in range(100)]\n",
    "st = time.clock()\n",
    "b = selsort(a)\n",
    "en = time.clock()\n",
    "du = en-st\n",
    "du"
   ]
  },
  {
   "cell_type": "code",
   "execution_count": null,
   "metadata": {},
   "outputs": [],
   "source": []
  },
  {
   "cell_type": "code",
   "execution_count": null,
   "metadata": {},
   "outputs": [],
   "source": []
  },
  {
   "cell_type": "code",
   "execution_count": null,
   "metadata": {},
   "outputs": [],
   "source": []
  },
  {
   "cell_type": "code",
   "execution_count": null,
   "metadata": {},
   "outputs": [],
   "source": []
  },
  {
   "cell_type": "code",
   "execution_count": null,
   "metadata": {},
   "outputs": [],
   "source": []
  },
  {
   "cell_type": "code",
   "execution_count": 144,
   "metadata": {},
   "outputs": [
    {
     "data": {
      "text/plain": [
       "0.14229245444403205"
      ]
     },
     "execution_count": 144,
     "metadata": {},
     "output_type": "execute_result"
    }
   ],
   "source": [
    "from random import *\n",
    "import time\n",
    "a ,s= [randint(0,1000) for i in range(1000)] ,[]\n",
    "st = time.clock()\n",
    "s = selsort(a)\n",
    "en = time.clock()\n",
    "du = en-st\n",
    "du"
   ]
  },
  {
   "cell_type": "code",
   "execution_count": 145,
   "metadata": {},
   "outputs": [
    {
     "data": {
      "text/plain": [
       "0.1879408459728893"
      ]
     },
     "execution_count": 145,
     "metadata": {},
     "output_type": "execute_result"
    }
   ],
   "source": [
    "from random import *\n",
    "import time\n",
    "a ,s= [randint(0,1000) for i in range(1000)] ,[]\n",
    "st = time.clock()\n",
    "s = insertion_sort(a)\n",
    "en = time.clock()\n",
    "du = en-st\n",
    "du"
   ]
  },
  {
   "cell_type": "code",
   "execution_count": 146,
   "metadata": {
    "scrolled": true
   },
   "outputs": [
    {
     "data": {
      "text/plain": [
       "0.22525447169050494"
      ]
     },
     "execution_count": 146,
     "metadata": {},
     "output_type": "execute_result"
    }
   ],
   "source": [
    "from random import *\n",
    "import time\n",
    "a ,s= [randint(0,1000) for i in range(1000)] ,[]\n",
    "st = time.clock()\n",
    "s = buble_sort(a)\n",
    "en = time.clock()\n",
    "du = en-st\n",
    "du"
   ]
  },
  {
   "cell_type": "code",
   "execution_count": 152,
   "metadata": {},
   "outputs": [
    {
     "data": {
      "text/plain": [
       "0.00762461225667721"
      ]
     },
     "execution_count": 152,
     "metadata": {},
     "output_type": "execute_result"
    }
   ],
   "source": [
    "from random import *\n",
    "import time\n",
    "a ,s= [randint(0,1000) for i in range(1000)] ,[]\n",
    "st = time.clock()\n",
    "s = msort(a)\n",
    "en = time.clock()\n",
    "du = en-st\n",
    "du"
   ]
  },
  {
   "cell_type": "code",
   "execution_count": 153,
   "metadata": {},
   "outputs": [
    {
     "data": {
      "text/plain": [
       "0.0036877933589494205"
      ]
     },
     "execution_count": 153,
     "metadata": {},
     "output_type": "execute_result"
    }
   ],
   "source": [
    "from random import *\n",
    "import time\n",
    "a ,s= [randint(0,1000) for i in range(1000)] ,[]\n",
    "st = time.clock()\n",
    "s = quick_sort(a)\n",
    "en = time.clock()\n",
    "du = en-st\n",
    "du"
   ]
  },
  {
   "cell_type": "code",
   "execution_count": 154,
   "metadata": {},
   "outputs": [
    {
     "data": {
      "text/plain": [
       "0.0003634870304267679"
      ]
     },
     "execution_count": 154,
     "metadata": {},
     "output_type": "execute_result"
    }
   ],
   "source": [
    "from random import *\n",
    "import time\n",
    "a ,s= [randint(0,1000) for i in range(1000)] ,[]\n",
    "st = time.clock()\n",
    "s = sorted(a)\n",
    "en = time.clock()\n",
    "du = en-st\n",
    "du"
   ]
  },
  {
   "cell_type": "code",
   "execution_count": null,
   "metadata": {},
   "outputs": [],
   "source": []
  },
  {
   "cell_type": "code",
   "execution_count": null,
   "metadata": {},
   "outputs": [],
   "source": []
  }
 ],
 "metadata": {
  "kernelspec": {
   "display_name": "Python 3",
   "language": "python",
   "name": "python3"
  },
  "language_info": {
   "codemirror_mode": {
    "name": "ipython",
    "version": 3
   },
   "file_extension": ".py",
   "mimetype": "text/x-python",
   "name": "python",
   "nbconvert_exporter": "python",
   "pygments_lexer": "ipython3",
   "version": "3.6.5"
  }
 },
 "nbformat": 4,
 "nbformat_minor": 2
}
