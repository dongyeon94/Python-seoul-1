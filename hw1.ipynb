{
 "cells": [
  {
   "cell_type": "code",
   "execution_count": 15,
   "metadata": {},
   "outputs": [
    {
     "name": "stdout",
     "output_type": "stream",
     "text": [
      "2\n"
     ]
    }
   ],
   "source": [
    "f1 = [1,2,3,4]                ### 1번 \n",
    "count = 0\n",
    "\n",
    "for i in range(len(f1)):\n",
    "    \n",
    "    if(f1[i] % 2 ==1 ):\n",
    "        count  = count +1\n",
    "    else:\n",
    "        continue\n",
    "    \n",
    "print(count)\n",
    "    "
   ]
  },
  {
   "cell_type": "code",
   "execution_count": 18,
   "metadata": {},
   "outputs": [
    {
     "name": "stdout",
     "output_type": "stream",
     "text": [
      "1\n",
      "3\n"
     ]
    }
   ],
   "source": [
    "f1 = [1,2,3,4]             #### 2번\n",
    "count = 0 \n",
    "\n",
    "for i in range(len(f1)):\n",
    "    \n",
    "    if(f1[i] % 2 ==1 ):\n",
    "        print(f1[i])\n",
    "    else:\n",
    "        continue\n",
    "    \n"
   ]
  },
  {
   "cell_type": "code",
   "execution_count": 27,
   "metadata": {},
   "outputs": [
    {
     "name": "stdout",
     "output_type": "stream",
     "text": [
      "4\n"
     ]
    }
   ],
   "source": [
    "f1 = [1,2,3,4]             ####3번\n",
    "count = 0 \n",
    "\n",
    "for i in range(len(f1)):\n",
    "    \n",
    "    if(f1[i] % 2 ==1 ):\n",
    "        count = count + f1[i]\n",
    "    else:\n",
    "        continue\n",
    "    \n",
    "print(count)"
   ]
  },
  {
   "cell_type": "code",
   "execution_count": 30,
   "metadata": {},
   "outputs": [
    {
     "name": "stdout",
     "output_type": "stream",
     "text": [
      "2\n"
     ]
    }
   ],
   "source": [
    "f1 = [1,2,3,4]            #### 4번 \n",
    "count = 0\n",
    "\n",
    "for i in range(len(f1)):\n",
    "    \n",
    "    if(f1[i] % 2 ==1 ):\n",
    "        count = count + i\n",
    "    else:\n",
    "        continue\n",
    "    \n",
    "print(count)"
   ]
  },
  {
   "cell_type": "code",
   "execution_count": 39,
   "metadata": {},
   "outputs": [
    {
     "name": "stdout",
     "output_type": "stream",
     "text": [
      "[1, 4, 9, 16]\n"
     ]
    }
   ],
   "source": [
    "f5 = [1,2,3,4]             ##### 5번\n",
    "re = []\n",
    "for i in range(len(f5)):\n",
    "    re.append(f5[i]*f5[i])\n",
    "\n",
    "print(re)\n"
   ]
  },
  {
   "cell_type": "code",
   "execution_count": 44,
   "metadata": {},
   "outputs": [
    {
     "data": {
      "text/plain": [
       "4"
      ]
     },
     "execution_count": 44,
     "metadata": {},
     "output_type": "execute_result"
    }
   ],
   "source": [
    "f6 = [1,2,3,4]             ##### 6번\n",
    "re = 0\n",
    "for i in range(len(f6)):\n",
    "    if(re < f6[i]):\n",
    "        re= f6[i]\n",
    "    else:\n",
    "        continue\n",
    "re"
   ]
  },
  {
   "cell_type": "code",
   "execution_count": 50,
   "metadata": {},
   "outputs": [
    {
     "data": {
      "text/plain": [
       "2.5"
      ]
     },
     "execution_count": 50,
     "metadata": {},
     "output_type": "execute_result"
    }
   ],
   "source": [
    "f7 = [1,2,3,4]        #### 7번\n",
    "re1,re2 =0, 0\n",
    "for i in range(len(f7)):\n",
    "    re1 = re1 + f7[i]\n",
    "    \n",
    "    if(i == len(f7)-1):\n",
    "        re2 = re1 / len(f7)\n",
    "    else:\n",
    "        continue\n",
    "re2"
   ]
  },
  {
   "cell_type": "code",
   "execution_count": 61,
   "metadata": {},
   "outputs": [
    {
     "name": "stdout",
     "output_type": "stream",
     "text": [
      "2\n",
      "4\n",
      "6\n",
      "8\n",
      "10\n"
     ]
    }
   ],
   "source": [
    "f8 = [1,2,3,4,5,6,7,8,9,10]     #### 8 번\n",
    "\n",
    "for i in range(len(f8)):\n",
    "    if(f8[i] %2 == 0):\n",
    "        print(f8[i])\n",
    "    else:\n",
    "        continue"
   ]
  },
  {
   "cell_type": "code",
   "execution_count": 86,
   "metadata": {},
   "outputs": [
    {
     "name": "stdout",
     "output_type": "stream",
     "text": [
      "\n",
      "\n"
     ]
    }
   ],
   "source": [
    "for i in range(0,1):  ## 세로                #### 9 번\n",
    "    print('\\n') \n",
    "    for j in range(0,0):  ## 가로\n",
    "        print('*', end=\"\")"
   ]
  },
  {
   "cell_type": "code",
   "execution_count": 95,
   "metadata": {},
   "outputs": [
    {
     "name": "stdout",
     "output_type": "stream",
     "text": [
      "\n",
      "\n",
      "*"
     ]
    }
   ],
   "source": [
    "for i in range(1,0,-1):  ## 세로            #### 10 번\n",
    "    print('\\n')\n",
    "    for j in range(i,2):  ## 가로\n",
    "        print('*', end=\"\")"
   ]
  },
  {
   "cell_type": "code",
   "execution_count": 118,
   "metadata": {},
   "outputs": [
    {
     "data": {
      "text/plain": [
       "True"
      ]
     },
     "execution_count": 118,
     "metadata": {},
     "output_type": "execute_result"
    }
   ],
   "source": [
    "f11 = []    ### 11번\n",
    "re = True\n",
    "for i in range(len(f11)):\n",
    "    if(i>1 &i<len(f11)):\n",
    "        if( f11[i-1]<f11[i]):\n",
    "            re = False\n",
    "re"
   ]
  },
  {
   "cell_type": "code",
   "execution_count": 129,
   "metadata": {},
   "outputs": [
    {
     "data": {
      "text/plain": [
       "True"
      ]
     },
     "execution_count": 129,
     "metadata": {},
     "output_type": "execute_result"
    }
   ],
   "source": [
    "f12 = []                     ### 12번\n",
    "re = True\n",
    "for i in range(len(f12)):\n",
    "    if( f12[i] >0):\n",
    "        re = False\n",
    "    if(len(f12) ==0):\n",
    "        re = True\n",
    "    if(f12[i]<0):\n",
    "        re = True\n",
    "        \n",
    "re"
   ]
  },
  {
   "cell_type": "code",
   "execution_count": 141,
   "metadata": {},
   "outputs": [
    {
     "data": {
      "text/plain": [
       "2"
      ]
     },
     "execution_count": 141,
     "metadata": {},
     "output_type": "execute_result"
    }
   ],
   "source": [
    "f13 = [1,2,3]     ### 13번\n",
    "index = 0\n",
    "for i in range(len(f13)):\n",
    "    if(f13[i]==3):\n",
    "        index = i\n",
    "index"
   ]
  },
  {
   "cell_type": "code",
   "execution_count": 146,
   "metadata": {},
   "outputs": [
    {
     "data": {
      "text/plain": [
       "2"
      ]
     },
     "execution_count": 146,
     "metadata": {},
     "output_type": "execute_result"
    }
   ],
   "source": [
    "f14 = [1,2,-3]            ### 14번\n",
    "index =0\n",
    "\n",
    "for i in range(len(f14)):\n",
    "    if(f14[i]<0):\n",
    "        index = i\n",
    "index"
   ]
  },
  {
   "cell_type": "code",
   "execution_count": 152,
   "metadata": {},
   "outputs": [
    {
     "data": {
      "text/plain": [
       "0"
      ]
     },
     "execution_count": 152,
     "metadata": {},
     "output_type": "execute_result"
    }
   ],
   "source": [
    "f15 = [-1,1,1,1]    ### 15번\n",
    "sum =0\n",
    "for i in range(len(f15)):\n",
    "    if(i % 2==0):\n",
    "         sum = sum + f15[i]\n",
    "sum"
   ]
  },
  {
   "cell_type": "code",
   "execution_count": 19,
   "metadata": {},
   "outputs": [
    {
     "name": "stdout",
     "output_type": "stream",
     "text": [
      "\n",
      "*****\n",
      "****\n",
      "***\n",
      "**\n",
      "*"
     ]
    }
   ],
   "source": [
    "#############16번\n",
    "for i in range(5,0,-1):  ## 세로\n",
    "    print()\n",
    "    for j in range(i,0,-1):  ## 가로\n",
    "        print('*', end=\"\")"
   ]
  },
  {
   "cell_type": "code",
   "execution_count": 161,
   "metadata": {
    "scrolled": true
   },
   "outputs": [
    {
     "name": "stdout",
     "output_type": "stream",
     "text": [
      "6\n",
      "5\n",
      "4\n",
      "3\n",
      "2\n",
      "1\n"
     ]
    }
   ],
   "source": [
    "#########17번\n",
    "f17= [1,2,3,4,5,6]\n",
    "\n",
    "for i in range(len(f17),0,-1):\n",
    "    print(i)"
   ]
  },
  {
   "cell_type": "code",
   "execution_count": 168,
   "metadata": {},
   "outputs": [
    {
     "data": {
      "text/plain": [
       "6"
      ]
     },
     "execution_count": 168,
     "metadata": {},
     "output_type": "execute_result"
    }
   ],
   "source": [
    "###########18번\n",
    "sum=1\n",
    "for i in range(1,4):\n",
    "    sum = sum*i\n",
    "sum"
   ]
  },
  {
   "cell_type": "code",
   "execution_count": 20,
   "metadata": {},
   "outputs": [
    {
     "data": {
      "text/plain": [
       "[1, 2, 6, 720, 5040, 40320, 362880]"
      ]
     },
     "execution_count": 20,
     "metadata": {},
     "output_type": "execute_result"
    }
   ],
   "source": [
    "#########19번\n",
    "f19 = [1,2,3,6,7,8,9]\n",
    "sum1 = []\n",
    "sum = 1\n",
    "for i in range(len(f19)):\n",
    "    for j in range(1,f19[i]+1):\n",
    "        sum = sum*j   \n",
    "        if( j > f19[i]-1 ):\n",
    "            sum1.append(sum)\n",
    "            sum= 1\n",
    "sum1"
   ]
  },
  {
   "cell_type": "code",
   "execution_count": null,
   "metadata": {},
   "outputs": [],
   "source": []
  },
  {
   "cell_type": "code",
   "execution_count": 12,
   "metadata": {},
   "outputs": [],
   "source": [
    "def f19(lst):       ##### 19번\n",
    "    for i in range(0, len(lst)):\n",
    "        factorial = 1\n",
    "        for j in range(1, lst[i]+1):\n",
    "            factorial = factorial * j\n",
    "        print(factorial)"
   ]
  },
  {
   "cell_type": "code",
   "execution_count": 13,
   "metadata": {},
   "outputs": [
    {
     "name": "stdout",
     "output_type": "stream",
     "text": [
      "1\n",
      "2\n",
      "6\n",
      "24\n"
     ]
    }
   ],
   "source": [
    "f19([1,2,3,4])"
   ]
  },
  {
   "cell_type": "code",
   "execution_count": 21,
   "metadata": {},
   "outputs": [
    {
     "name": "stdout",
     "output_type": "stream",
     "text": [
      "543210\n",
      "43210\n",
      "6543210\n",
      "210\n",
      "43210\n",
      "543210\n",
      "6543210\n"
     ]
    }
   ],
   "source": [
    "#########20 번 \n",
    "f20 = [5,4,6,2,4,5,6,]\n",
    "\n",
    "for i in range(len(f20)):\n",
    "    s= f20[i]\n",
    "    print(s ,end='')\n",
    "    for j in range(0,f20[i]):     \n",
    "        if(s>0):\n",
    "            s = s-1\n",
    "        print(s ,end='')\n",
    "    print()"
   ]
  },
  {
   "cell_type": "code",
   "execution_count": 30,
   "metadata": {},
   "outputs": [
    {
     "data": {
      "text/plain": [
       "[2, 4, 6, 8]"
      ]
     },
     "execution_count": 30,
     "metadata": {},
     "output_type": "execute_result"
    }
   ],
   "source": [
    "###############21번\n",
    "f21 = [1,2,3,4]\n",
    "f211 = [1,2,3,4]\n",
    "re  = []\n",
    "for i in range(len(f21)):\n",
    "    re.append(f21[i] + f211[i])\n",
    "re"
   ]
  },
  {
   "cell_type": "code",
   "execution_count": 1,
   "metadata": {},
   "outputs": [
    {
     "name": "stdout",
     "output_type": "stream",
     "text": [
      "2\n",
      "3\n",
      "4\n",
      "6\n",
      "8\n",
      "9\n",
      "10\n"
     ]
    }
   ],
   "source": [
    "##########22번\n",
    "f22= 10\n",
    "re =0\n",
    "for i in range(1,f22+1):\n",
    "    if(i % 2 == 0):\n",
    "        re = i\n",
    "    elif(i% 3 == 0):\n",
    "        re = i\n",
    "    else:\n",
    "        continue\n",
    "    print(re)"
   ]
  },
  {
   "cell_type": "code",
   "execution_count": 3,
   "metadata": {},
   "outputs": [
    {
     "data": {
      "text/plain": [
       "11"
      ]
     },
     "execution_count": 3,
     "metadata": {},
     "output_type": "execute_result"
    }
   ],
   "source": [
    "##########23번\n",
    "f23 = ([1,2,3],[4,5,11],[7,8,9])\n",
    "max = 0\n",
    "for i in range(len(f23)):\n",
    "    for j in range(len(f23[i])):\n",
    "        if(f23[i][j] > max):\n",
    "             max = f23[i][j]\n",
    "max"
   ]
  },
  {
   "cell_type": "code",
   "execution_count": null,
   "metadata": {},
   "outputs": [],
   "source": []
  },
  {
   "cell_type": "code",
   "execution_count": 27,
   "metadata": {},
   "outputs": [
    {
     "data": {
      "text/plain": [
       "5"
      ]
     },
     "execution_count": 27,
     "metadata": {},
     "output_type": "execute_result"
    }
   ],
   "source": [
    "#########24번\n",
    "f24 = [1,3,4,2,5]\n",
    "max = 0\n",
    "for i in range(len(f24)):\n",
    "    if(f24[i]> max):\n",
    "        max = f24[i]\n",
    "max"
   ]
  },
  {
   "cell_type": "code",
   "execution_count": 39,
   "metadata": {},
   "outputs": [],
   "source": [
    "#########24번\n",
    "def f24(list):\n",
    "    max = 0\n",
    "    for i in range(len(f24(list))):\n",
    "        if(f24[i]> max):\n",
    "            max = f24[i]\n",
    "    max"
   ]
  },
  {
   "cell_type": "code",
   "execution_count": 42,
   "metadata": {},
   "outputs": [
    {
     "ename": "TypeError",
     "evalue": "f24() takes 1 positional argument but 2 were given",
     "output_type": "error",
     "traceback": [
      "\u001b[1;31m---------------------------------------------------------------------------\u001b[0m",
      "\u001b[1;31mTypeError\u001b[0m                                 Traceback (most recent call last)",
      "\u001b[1;32m<ipython-input-42-7bbd105acc53>\u001b[0m in \u001b[0;36m<module>\u001b[1;34m()\u001b[0m\n\u001b[1;32m----> 1\u001b[1;33m \u001b[0mf24\u001b[0m\u001b[1;33m(\u001b[0m\u001b[1;33m[\u001b[0m\u001b[1;36m1\u001b[0m\u001b[1;33m,\u001b[0m\u001b[1;36m2\u001b[0m\u001b[1;33m,\u001b[0m\u001b[1;36m3\u001b[0m\u001b[1;33m]\u001b[0m\u001b[1;33m,\u001b[0m\u001b[1;33m[\u001b[0m\u001b[1;36m112\u001b[0m\u001b[1;33m,\u001b[0m\u001b[1;36m12\u001b[0m\u001b[1;33m,\u001b[0m\u001b[1;36m3\u001b[0m\u001b[1;33m,\u001b[0m\u001b[1;36m5\u001b[0m\u001b[1;33m]\u001b[0m\u001b[1;33m)\u001b[0m\u001b[1;33m\u001b[0m\u001b[0m\n\u001b[0m",
      "\u001b[1;31mTypeError\u001b[0m: f24() takes 1 positional argument but 2 were given"
     ]
    }
   ],
   "source": [
    "f24([1,2,3],[112,12,3,5])"
   ]
  },
  {
   "cell_type": "code",
   "execution_count": 2,
   "metadata": {},
   "outputs": [
    {
     "data": {
      "text/plain": [
       "5"
      ]
     },
     "execution_count": 2,
     "metadata": {},
     "output_type": "execute_result"
    }
   ],
   "source": [
    "########25번\n",
    "f25 = 562346711244\n",
    "s = len(str(f25))\n",
    "re = int(f25 / (10**(s-1)))\n",
    "\n",
    "re\n"
   ]
  },
  {
   "cell_type": "code",
   "execution_count": 43,
   "metadata": {},
   "outputs": [
    {
     "name": "stdout",
     "output_type": "stream",
     "text": [
      "3\n",
      "11\n",
      "9\n"
     ]
    }
   ],
   "source": [
    "################26번\n",
    "f26 = ([1,2,3],[4,5,11],[7,8,9])\n",
    "max = 0\n",
    "for i in range(len(f26)):\n",
    "    for j in range(len(f26[i])):\n",
    "        if(f26[i][j] > max):\n",
    "             max = f26[i][j]\n",
    "        elif(j < len(f26[i])):\n",
    "            max = 0\n",
    "    print(max)\n",
    "\n",
    "    "
   ]
  },
  {
   "cell_type": "code",
   "execution_count": 53,
   "metadata": {},
   "outputs": [],
   "source": [
    "def f26(list):\n",
    "    for i in range(0,len(list)):\n",
    "        max = list[i][0]\n",
    "        for j in range(0,len(list[i])):\n",
    "            if max < list[i][j]:\n",
    "                max = list[i][j]\n",
    "        print(max)"
   ]
  },
  {
   "cell_type": "code",
   "execution_count": 54,
   "metadata": {},
   "outputs": [
    {
     "name": "stdout",
     "output_type": "stream",
     "text": [
      "5\n",
      "6\n",
      "124\n",
      "6\n"
     ]
    }
   ],
   "source": [
    "f26([[1,2,5],[1,5,6,1,2,3],[124,5,1,6,1],[1,2,6,1]])"
   ]
  },
  {
   "cell_type": "code",
   "execution_count": 25,
   "metadata": {},
   "outputs": [],
   "source": [
    "################26번\n",
    "def f26():\n",
    "    max = 0\n",
    "    for i in range(len(f26)):\n",
    "        for j in range(len(f26[i])):\n",
    "            if(f26[i][j] > max):\n",
    "                 max = f26[i][j]\n",
    "            elif(j < len(f26[i])):\n",
    "                max = 0\n",
    "        print(max)\n",
    "\n",
    "    "
   ]
  },
  {
   "cell_type": "code",
   "execution_count": 26,
   "metadata": {},
   "outputs": [
    {
     "ename": "TypeError",
     "evalue": "f26() takes 0 positional arguments but 3 were given",
     "output_type": "error",
     "traceback": [
      "\u001b[1;31m---------------------------------------------------------------------------\u001b[0m",
      "\u001b[1;31mTypeError\u001b[0m                                 Traceback (most recent call last)",
      "\u001b[1;32m<ipython-input-26-75420a33cd07>\u001b[0m in \u001b[0;36m<module>\u001b[1;34m()\u001b[0m\n\u001b[1;32m----> 1\u001b[1;33m \u001b[0mf26\u001b[0m\u001b[1;33m(\u001b[0m\u001b[1;33m[\u001b[0m\u001b[1;36m1\u001b[0m\u001b[1;33m,\u001b[0m\u001b[1;36m4\u001b[0m\u001b[1;33m,\u001b[0m\u001b[1;36m5\u001b[0m\u001b[1;33m,\u001b[0m\u001b[1;36m0\u001b[0m\u001b[1;33m]\u001b[0m\u001b[1;33m,\u001b[0m\u001b[1;33m[\u001b[0m\u001b[1;36m1\u001b[0m\u001b[1;33m,\u001b[0m\u001b[1;36m12\u001b[0m\u001b[1;33m,\u001b[0m\u001b[1;36m4\u001b[0m\u001b[1;33m,\u001b[0m\u001b[1;36m5\u001b[0m\u001b[1;33m]\u001b[0m\u001b[1;33m,\u001b[0m\u001b[1;33m[\u001b[0m\u001b[1;36m1\u001b[0m\u001b[1;33m,\u001b[0m\u001b[1;36m2\u001b[0m\u001b[1;33m]\u001b[0m\u001b[1;33m)\u001b[0m\u001b[1;33m\u001b[0m\u001b[0m\n\u001b[0m",
      "\u001b[1;31mTypeError\u001b[0m: f26() takes 0 positional arguments but 3 were given"
     ]
    }
   ],
   "source": [
    "f26([1,4,5,0],[1,12,4,5],[1,2])"
   ]
  },
  {
   "cell_type": "code",
   "execution_count": 14,
   "metadata": {},
   "outputs": [],
   "source": [
    " def f26(lst):\n",
    "    for i in lst:\n",
    "        res = i[0]\n",
    "        for j in i:\n",
    "            if res < j:\n",
    "                res=j\n",
    "        print(res)\n"
   ]
  },
  {
   "cell_type": "code",
   "execution_count": 13,
   "metadata": {},
   "outputs": [
    {
     "ename": "TypeError",
     "evalue": "'int' object is not subscriptable",
     "output_type": "error",
     "traceback": [
      "\u001b[1;31m---------------------------------------------------------------------------\u001b[0m",
      "\u001b[1;31mTypeError\u001b[0m                                 Traceback (most recent call last)",
      "\u001b[1;32m<ipython-input-13-057a8910a5a0>\u001b[0m in \u001b[0;36m<module>\u001b[1;34m()\u001b[0m\n\u001b[1;32m----> 1\u001b[1;33m \u001b[0mf26\u001b[0m\u001b[1;33m(\u001b[0m\u001b[1;33m[\u001b[0m\u001b[1;36m1\u001b[0m\u001b[1;33m,\u001b[0m\u001b[1;36m5\u001b[0m\u001b[1;33m,\u001b[0m\u001b[1;36m6\u001b[0m\u001b[1;33m]\u001b[0m\u001b[1;33m)\u001b[0m\u001b[1;33m\u001b[0m\u001b[0m\n\u001b[0m",
      "\u001b[1;32m<ipython-input-12-c74ca2795727>\u001b[0m in \u001b[0;36mf26\u001b[1;34m(lst)\u001b[0m\n\u001b[0;32m      1\u001b[0m \u001b[1;32mdef\u001b[0m \u001b[0mf26\u001b[0m\u001b[1;33m(\u001b[0m\u001b[0mlst\u001b[0m\u001b[1;33m)\u001b[0m\u001b[1;33m:\u001b[0m\u001b[1;33m\u001b[0m\u001b[0m\n\u001b[0;32m      2\u001b[0m     \u001b[1;32mfor\u001b[0m \u001b[0mi\u001b[0m \u001b[1;32min\u001b[0m \u001b[0mlst\u001b[0m\u001b[1;33m:\u001b[0m\u001b[1;33m\u001b[0m\u001b[0m\n\u001b[1;32m----> 3\u001b[1;33m         \u001b[0mres\u001b[0m \u001b[1;33m=\u001b[0m \u001b[0mint\u001b[0m\u001b[1;33m(\u001b[0m\u001b[0mi\u001b[0m\u001b[1;33m[\u001b[0m\u001b[1;36m0\u001b[0m\u001b[1;33m]\u001b[0m\u001b[1;33m)\u001b[0m\u001b[1;33m\u001b[0m\u001b[0m\n\u001b[0m\u001b[0;32m      4\u001b[0m         \u001b[1;32mfor\u001b[0m \u001b[0mj\u001b[0m \u001b[1;32min\u001b[0m \u001b[0mi\u001b[0m\u001b[1;33m:\u001b[0m\u001b[1;33m\u001b[0m\u001b[0m\n\u001b[0;32m      5\u001b[0m             \u001b[1;32mif\u001b[0m \u001b[0mres\u001b[0m \u001b[1;33m<\u001b[0m \u001b[0mj\u001b[0m\u001b[1;33m:\u001b[0m\u001b[1;33m\u001b[0m\u001b[0m\n",
      "\u001b[1;31mTypeError\u001b[0m: 'int' object is not subscriptable"
     ]
    }
   ],
   "source": [
    "f26([1,5,6])"
   ]
  },
  {
   "cell_type": "code",
   "execution_count": null,
   "metadata": {},
   "outputs": [],
   "source": []
  }
 ],
 "metadata": {
  "kernelspec": {
   "display_name": "Python 3",
   "language": "python",
   "name": "python3"
  },
  "language_info": {
   "codemirror_mode": {
    "name": "ipython",
    "version": 3
   },
   "file_extension": ".py",
   "mimetype": "text/x-python",
   "name": "python",
   "nbconvert_exporter": "python",
   "pygments_lexer": "ipython3",
   "version": "3.6.5"
  }
 },
 "nbformat": 4,
 "nbformat_minor": 2
}
