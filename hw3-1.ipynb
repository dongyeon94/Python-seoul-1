{
 "cells": [
  {
   "cell_type": "code",
   "execution_count": 59,
   "metadata": {},
   "outputs": [],
   "source": [
    "def f1(lst):\n",
    "    return len(list(filter(lambda x : x%2==1 , lst)))"
   ]
  },
  {
   "cell_type": "code",
   "execution_count": 3,
   "metadata": {},
   "outputs": [],
   "source": [
    "def f2(lst):\n",
    "    print(filter(lambda x:x%2--1,lst))"
   ]
  },
  {
   "cell_type": "code",
   "execution_count": 58,
   "metadata": {},
   "outputs": [],
   "source": [
    "def f3(lst):\n",
    "    return sum(list(filter(lambda x: x%2==1 ,lst)))"
   ]
  },
  {
   "cell_type": "code",
   "execution_count": 29,
   "metadata": {},
   "outputs": [],
   "source": [
    "def f4(lst):\n",
    "    sumofindex = 0\n",
    "    for inx,val in enumerate(lst):\n",
    "        if val%2 ==1:\n",
    "            sumofindex += inx\n",
    "    return sumofindex"
   ]
  },
  {
   "cell_type": "code",
   "execution_count": 36,
   "metadata": {},
   "outputs": [],
   "source": [
    "def f5(lst):\n",
    "    return list(map(lambda x : x**2 , lst))"
   ]
  },
  {
   "cell_type": "code",
   "execution_count": 1,
   "metadata": {},
   "outputs": [],
   "source": [
    "def f6(lst):\n",
    "    return max(list(map(lambda x : x ,lst)))"
   ]
  },
  {
   "cell_type": "code",
   "execution_count": 57,
   "metadata": {},
   "outputs": [],
   "source": [
    "def f7(lst):\n",
    "    return sum(list(filter(lambda  x : x , lst)))/len(lst)"
   ]
  },
  {
   "cell_type": "code",
   "execution_count": 11,
   "metadata": {},
   "outputs": [],
   "source": [
    "def f8(a,b,n):                 \n",
    "    s =list(filter(lambda x: x%n==0 ,list(range(a,b+1))))\n",
    "    return print(*s)\n"
   ]
  },
  {
   "cell_type": "code",
   "execution_count": 21,
   "metadata": {},
   "outputs": [],
   "source": [
    "def f9(wid,hei):\n",
    "    for i in range(hei):\n",
    "        print('*'*wid,end='')\n",
    "        print()"
   ]
  },
  {
   "cell_type": "code",
   "execution_count": 4,
   "metadata": {},
   "outputs": [],
   "source": [
    "def f10(n):\n",
    "    for i in range(1,n+1):\n",
    "        print('*'*i)"
   ]
  },
  {
   "cell_type": "code",
   "execution_count": 2,
   "metadata": {},
   "outputs": [],
   "source": [
    "def f10a(n):\n",
    "    list(map(print, list(map(lambda x: \"*\"*(x+1), list(range(n))))))"
   ]
  },
  {
   "cell_type": "code",
   "execution_count": 7,
   "metadata": {},
   "outputs": [],
   "source": [
    "def f11(lst):\n",
    "    s = sorted(lst,reverse=True)\n",
    "    if lst == s:\n",
    "        return True\n",
    "    else:\n",
    "        return False"
   ]
  },
  {
   "cell_type": "code",
   "execution_count": 20,
   "metadata": {},
   "outputs": [],
   "source": [
    "def f12(lst):\n",
    "    s = list(filter(lambda x: x>0 , lst))\n",
    "    if  len(s) ==0 :\n",
    "        return True\n",
    "    else:\n",
    "        return False"
   ]
  },
  {
   "cell_type": "code",
   "execution_count": 9,
   "metadata": {},
   "outputs": [],
   "source": [
    "def f13(lst,target):\n",
    "    return lst.index(target)"
   ]
  },
  {
   "cell_type": "code",
   "execution_count": 47,
   "metadata": {},
   "outputs": [],
   "source": [
    "def f14(lst):                          ############################??????????????????\n",
    "    s = min(lst)\n",
    "    if s <0 :             \n",
    "        return lst.index(s)"
   ]
  },
  {
   "cell_type": "code",
   "execution_count": 14,
   "metadata": {},
   "outputs": [],
   "source": [
    "def f15(lst):\n",
    "    a =[]\n",
    "    for i in range(0,len(lst),2):\n",
    "        a.append(lst[i])\n",
    "    return sum(a)"
   ]
  },
  {
   "cell_type": "code",
   "execution_count": 16,
   "metadata": {},
   "outputs": [],
   "source": [
    "def f16(n):\n",
    "    for i in range(n,0,-1):\n",
    "        print('*'*i)"
   ]
  },
  {
   "cell_type": "code",
   "execution_count": 17,
   "metadata": {},
   "outputs": [],
   "source": [
    "def f16b(n):\n",
    "    list(map(print,list(map(lambda x: \"*\"*(n-x),\n",
    "                            list(range(n))))))"
   ]
  },
  {
   "cell_type": "code",
   "execution_count": 18,
   "metadata": {},
   "outputs": [],
   "source": [
    "def f17(lst):            \n",
    "    if len(lst) <=2:\n",
    "        return print(lst[len(lst)-1])\n",
    "    return print(lst[len(lst)-1]),f17(lst[:-2])"
   ]
  },
  {
   "cell_type": "code",
   "execution_count": 20,
   "metadata": {},
   "outputs": [],
   "source": [
    "def f17(lst):\n",
    "    idx = list(range(len(lst)-1, -1, -2))\n",
    "    list(map(lambda i: print(lst[i]), idx))"
   ]
  },
  {
   "cell_type": "code",
   "execution_count": 21,
   "metadata": {},
   "outputs": [],
   "source": [
    "def f17b(lst):\n",
    "    idx = list(range(len(lst)-1, -1, -2))\n",
    "    list(map(lambda i: print(lst[i]), idx))"
   ]
  },
  {
   "cell_type": "code",
   "execution_count": 98,
   "metadata": {},
   "outputs": [],
   "source": [
    "def f18(n):\n",
    "    s = 1\n",
    "    if n==0:\n",
    "        return 1\n",
    "    return n*f18(n-1) "
   ]
  },
  {
   "cell_type": "code",
   "execution_count": 22,
   "metadata": {},
   "outputs": [],
   "source": [
    "def f19(matrix):\n",
    "    for i in range(len(matrix)):\n",
    "        print(sum(matrix[i]))"
   ]
  },
  {
   "cell_type": "code",
   "execution_count": 23,
   "metadata": {},
   "outputs": [],
   "source": [
    "def f19b(m):\n",
    "    list(map(print, list(map(lambda i: sum(i), m))))"
   ]
  },
  {
   "cell_type": "code",
   "execution_count": 24,
   "metadata": {},
   "outputs": [],
   "source": [
    "def f20(m):\n",
    "    list(map(lambda i: print(m[i][i]),list(range(len(m)))))"
   ]
  },
  {
   "cell_type": "code",
   "execution_count": 25,
   "metadata": {},
   "outputs": [],
   "source": [
    "def f21(lst):\n",
    "    fac = 1\n",
    "    if len(lst) == 0:return \n",
    "    a = lst[0]\n",
    "    for i in range(1,a+1):\n",
    "        fac = fac*i\n",
    "    del lst[0]\n",
    "    return print(fac) , f21(lst)"
   ]
  },
  {
   "cell_type": "code",
   "execution_count": 27,
   "metadata": {},
   "outputs": [],
   "source": [
    "def f21b(lst):\n",
    "    list(map(lambda x: print(x),list(map(lambda n: reduce(lambda x, y: x*y,list(range(n,0,-1))), lst))))"
   ]
  },
  {
   "cell_type": "code",
   "execution_count": 28,
   "metadata": {},
   "outputs": [],
   "source": [
    "def f22(lst):\n",
    "    if len(lst) == 0:\n",
    "        return\n",
    "    ind =lst[0]\n",
    "    while ind>0:\n",
    "        print(ind,end=' ')\n",
    "        ind -=1\n",
    "    del lst[0]\n",
    "    return print(), f22(lst)"
   ]
  },
  {
   "cell_type": "code",
   "execution_count": 29,
   "metadata": {},
   "outputs": [],
   "source": [
    "def f22b(lst):\n",
    "    return list(map(lambda x: print(*x),list(map(lambda n: list(range(n, -1, -1)), lst))))"
   ]
  },
  {
   "cell_type": "code",
   "execution_count": 32,
   "metadata": {},
   "outputs": [],
   "source": [
    "def f23(lst1,lst2):\n",
    "    return list(map(lambda x,y : x+y, lst1,lst2))"
   ]
  },
  {
   "cell_type": "code",
   "execution_count": 33,
   "metadata": {},
   "outputs": [],
   "source": [
    "def f24(n):                    \n",
    "    s = list(filter(lambda x: x%2==0 or x%3==0 , list(range(n+1))))\n",
    "    for i in range(len(s)):\n",
    "        print(s[i])57"
   ]
  },
  {
   "cell_type": "code",
   "execution_count": 36,
   "metadata": {},
   "outputs": [],
   "source": [
    "def f24b(n):\n",
    "    list(map(print, list(filter(lambda i: i%2==0 or i%3==0,list(range(1,n+1))))))"
   ]
  },
  {
   "cell_type": "code",
   "execution_count": 53,
   "metadata": {},
   "outputs": [],
   "source": [
    "def f25(lst):\n",
    "    a=[]\n",
    "    for i in range(len(lst)):\n",
    "        a.append(lst[i])\n",
    "    return max(a)"
   ]
  },
  {
   "cell_type": "code",
   "execution_count": 66,
   "metadata": {},
   "outputs": [],
   "source": [
    "def f25b(lst):\n",
    "    return max(list(map(max, list(filter(lambda lst:len(lst) > 0, lst)))))"
   ]
  },
  {
   "cell_type": "code",
   "execution_count": 67,
   "metadata": {},
   "outputs": [
    {
     "data": {
      "text/plain": [
       "15"
      ]
     },
     "execution_count": 67,
     "metadata": {},
     "output_type": "execute_result"
    }
   ],
   "source": [
    "f25b([[1,2,3,4,5],[],[],[15,1,2]])"
   ]
  },
  {
   "cell_type": "code",
   "execution_count": 20,
   "metadata": {},
   "outputs": [],
   "source": [
    "def f26(lst):\n",
    "    a = sorted(lst)\n",
    "    return a[-2]"
   ]
  },
  {
   "cell_type": "code",
   "execution_count": 36,
   "metadata": {},
   "outputs": [],
   "source": [
    "def f27(n):\n",
    "    if n<10:\n",
    "        return n\n",
    "    else:\n",
    "        return f27(n//10)"
   ]
  },
  {
   "cell_type": "code",
   "execution_count": 52,
   "metadata": {},
   "outputs": [],
   "source": [
    "def f28(lst):\n",
    "    ids = len(lst)\n",
    "    if ids == 0:\n",
    "        return\n",
    "    a = max(lst[0])\n",
    "    del lst[0]\n",
    "    return print(a),f28(lst)"
   ]
  },
  {
   "cell_type": "code",
   "execution_count": 68,
   "metadata": {},
   "outputs": [],
   "source": [
    "def f28b(lst):\n",
    "    list(map(print, list(map(lambda l: max(l), lst))))"
   ]
  },
  {
   "cell_type": "code",
   "execution_count": null,
   "metadata": {},
   "outputs": [],
   "source": []
  },
  {
   "cell_type": "code",
   "execution_count": null,
   "metadata": {},
   "outputs": [],
   "source": []
  },
  {
   "cell_type": "code",
   "execution_count": null,
   "metadata": {},
   "outputs": [],
   "source": []
  }
 ],
 "metadata": {
  "kernelspec": {
   "display_name": "Python 3",
   "language": "python",
   "name": "python3"
  },
  "language_info": {
   "codemirror_mode": {
    "name": "ipython",
    "version": 3
   },
   "file_extension": ".py",
   "mimetype": "text/x-python",
   "name": "python",
   "nbconvert_exporter": "python",
   "pygments_lexer": "ipython3",
   "version": "3.6.5"
  }
 },
 "nbformat": 4,
 "nbformat_minor": 2
}
