{
 "cells": [
  {
   "cell_type": "code",
   "execution_count": 16,
   "metadata": {},
   "outputs": [],
   "source": [
    "def f1(lst):\n",
    "    for i in range(len(lst)):\n",
    "        if lst[i] >= 0:\n",
    "            if lst[i]**0.5 -int(lst[i]**0.5) == 0:\n",
    "                return i\n",
    "        return -1\n",
    "    if len(lst)  == 0 :\n",
    "        return -1"
   ]
  },
  {
   "cell_type": "code",
   "execution_count": 30,
   "metadata": {},
   "outputs": [],
   "source": [
    "def f2(lst):\n",
    "    count =0\n",
    "    for i in range(len(lst)):\n",
    "        if lst[i] >= 0:\n",
    "            if lst[i]**0.5 -int(lst[i]**0.5) == 0:\n",
    "                count +=1\n",
    "    return count"
   ]
  },
  {
   "cell_type": "code",
   "execution_count": 55,
   "metadata": {},
   "outputs": [],
   "source": [
    "def f3(lst):\n",
    "    second = 0\n",
    "    a = sorted(lst)\n",
    "    second = a[-2]\n",
    "    return second"
   ]
  },
  {
   "cell_type": "markdown",
   "metadata": {},
   "source": [
    "### "
   ]
  },
  {
   "cell_type": "markdown",
   "metadata": {},
   "source": [
    "### "
   ]
  },
  {
   "cell_type": "code",
   "execution_count": 59,
   "metadata": {},
   "outputs": [],
   "source": [
    "def digit(num,pos):\n",
    "    return(num//10**(pos-1)%10)"
   ]
  },
  {
   "cell_type": "code",
   "execution_count": 94,
   "metadata": {},
   "outputs": [],
   "source": [
    "def print_french(num1,num2):\n",
    "    #  assumes 0 <= num <100\n",
    "    one_list = ['zero','un','deux','trois','quatre','cinq','six','sept','huit','neuf','dix','onze','douze','treize','quatorze',\n",
    "               'quinze','seize','dix-sept','dix-huit','dix-neuf']\n",
    "    \n",
    "    tens_list = ['','dix','vingt','trente','quarante','cinquante','soixante','soixante','quatre-vingt','quatre-vingt']\n",
    "    \n",
    "    for i in range(num1 ,num2+1):\n",
    "        if i<20:\n",
    "            if i<20:\n",
    "                print(i,one_list[i])\n",
    "            elif i %10 == 1:\n",
    "                print(i,tens_list[i//10],'et',one_list[i%10])\n",
    "            else:\n",
    "                print(i,tens_list[i//10],'-',one_list[i%10])\n",
    "        elif i == 100 :\n",
    "            print('cent')\n",
    "            \n",
    "        elif i % 10 ==0:\n",
    "            print(i,tens_list[i//10])\n",
    "        \n",
    "        else:\n",
    "            if i %10 == 1:\n",
    "                print(i,tens_list[i//10],'et',one_list[i%10])\n",
    "            else:\n",
    "                print(i,tens_list[i//10],'-',one_list[i%10])  \n",
    "\n",
    "                "
   ]
  },
  {
   "cell_type": "code",
   "execution_count": 95,
   "metadata": {},
   "outputs": [
    {
     "name": "stdout",
     "output_type": "stream",
     "text": [
      "0 zero\n",
      "1 un\n",
      "2 deux\n",
      "3 trois\n",
      "4 quatre\n",
      "5 cinq\n",
      "6 six\n",
      "7 sept\n",
      "8 huit\n",
      "9 neuf\n",
      "10 dix\n",
      "11 onze\n",
      "12 douze\n",
      "13 treize\n",
      "14 quatorze\n",
      "15 quinze\n",
      "16 seize\n",
      "17 dix-sept\n",
      "18 dix-huit\n",
      "19 dix-neuf\n",
      "20 vingt\n",
      "21 vingt et un\n",
      "22 vingt - deux\n",
      "23 vingt - trois\n",
      "24 vingt - quatre\n",
      "25 vingt - cinq\n",
      "26 vingt - six\n",
      "27 vingt - sept\n",
      "28 vingt - huit\n",
      "29 vingt - neuf\n",
      "30 trente\n",
      "31 trente et un\n",
      "32 trente - deux\n",
      "33 trente - trois\n",
      "34 trente - quatre\n",
      "35 trente - cinq\n",
      "36 trente - six\n",
      "37 trente - sept\n",
      "38 trente - huit\n",
      "39 trente - neuf\n",
      "40 quarante\n",
      "41 quarante et un\n",
      "42 quarante - deux\n",
      "43 quarante - trois\n",
      "44 quarante - quatre\n",
      "45 quarante - cinq\n",
      "46 quarante - six\n",
      "47 quarante - sept\n",
      "48 quarante - huit\n",
      "49 quarante - neuf\n",
      "50 cinquante\n",
      "51 cinquante et un\n",
      "52 cinquante - deux\n",
      "53 cinquante - trois\n",
      "54 cinquante - quatre\n",
      "55 cinquante - cinq\n",
      "56 cinquante - six\n",
      "57 cinquante - sept\n",
      "58 cinquante - huit\n",
      "59 cinquante - neuf\n",
      "60 soixante\n",
      "61 soixante et un\n",
      "62 soixante - deux\n",
      "63 soixante - trois\n",
      "64 soixante - quatre\n",
      "65 soixante - cinq\n",
      "66 soixante - six\n",
      "67 soixante - sept\n",
      "68 soixante - huit\n",
      "69 soixante - neuf\n",
      "70 soixante\n",
      "71 soixante et un\n",
      "72 soixante - deux\n",
      "73 soixante - trois\n",
      "74 soixante - quatre\n",
      "75 soixante - cinq\n",
      "76 soixante - six\n",
      "77 soixante - sept\n",
      "78 soixante - huit\n",
      "79 soixante - neuf\n",
      "80 quatre-vingt\n",
      "81 quatre-vingt et un\n",
      "82 quatre-vingt - deux\n",
      "83 quatre-vingt - trois\n",
      "84 quatre-vingt - quatre\n",
      "85 quatre-vingt - cinq\n",
      "86 quatre-vingt - six\n",
      "87 quatre-vingt - sept\n",
      "88 quatre-vingt - huit\n",
      "89 quatre-vingt - neuf\n",
      "90 quatre-vingt\n",
      "91 quatre-vingt et un\n",
      "92 quatre-vingt - deux\n",
      "93 quatre-vingt - trois\n",
      "94 quatre-vingt - quatre\n",
      "95 quatre-vingt - cinq\n",
      "96 quatre-vingt - six\n",
      "97 quatre-vingt - sept\n",
      "98 quatre-vingt - huit\n",
      "99 quatre-vingt - neuf\n",
      "cent\n"
     ]
    }
   ],
   "source": [
    "print_french(0,100)"
   ]
  },
  {
   "cell_type": "code",
   "execution_count": null,
   "metadata": {},
   "outputs": [],
   "source": []
  },
  {
   "cell_type": "code",
   "execution_count": null,
   "metadata": {},
   "outputs": [],
   "source": []
  },
  {
   "cell_type": "markdown",
   "metadata": {},
   "source": [
    "### ###########    14_B"
   ]
  },
  {
   "cell_type": "code",
   "execution_count": null,
   "metadata": {},
   "outputs": [],
   "source": []
  },
  {
   "cell_type": "code",
   "execution_count": 121,
   "metadata": {},
   "outputs": [],
   "source": [
    "def f1(lst,n):\n",
    "    s , count,count1 = [],0,0\n",
    "    if len(lst) == 0:\n",
    "        return 0\n",
    "    if lst[0] == n:\n",
    "        count +=1\n",
    "    if len(lst) > 1:\n",
    "        count1=f1(lst[1:],n)\n",
    "    \n",
    "    return count +count1"
   ]
  },
  {
   "cell_type": "code",
   "execution_count": 134,
   "metadata": {},
   "outputs": [],
   "source": [
    "def f2(lst):\n",
    "    a = []\n",
    "    for i in range(len(lst)):\n",
    "        a.append(lst[i])\n",
    "        a.append(lst[i])\n",
    "    return a"
   ]
  },
  {
   "cell_type": "code",
   "execution_count": 88,
   "metadata": {},
   "outputs": [],
   "source": [
    "def f3(lst,n):\n",
    "    s = n\n",
    "    if len(lst)==0:\n",
    "        if n==0:\n",
    "            return True\n",
    "        else:\n",
    "            return False\n",
    "    else:\n",
    "        return f3(lst[1:],s-lst[0])"
   ]
  },
  {
   "cell_type": "code",
   "execution_count": 91,
   "metadata": {},
   "outputs": [
    {
     "data": {
      "text/plain": [
       "True"
      ]
     },
     "execution_count": 91,
     "metadata": {},
     "output_type": "execute_result"
    }
   ],
   "source": [
    "f3([1,2,3,4],10)"
   ]
  },
  {
   "cell_type": "code",
   "execution_count": 81,
   "metadata": {},
   "outputs": [
    {
     "data": {
      "text/plain": [
       "[]"
      ]
     },
     "execution_count": 81,
     "metadata": {},
     "output_type": "execute_result"
    }
   ],
   "source": [
    "a = [1]\n",
    "b = a[1:]\n",
    "b"
   ]
  },
  {
   "cell_type": "code",
   "execution_count": null,
   "metadata": {},
   "outputs": [],
   "source": []
  },
  {
   "cell_type": "code",
   "execution_count": null,
   "metadata": {},
   "outputs": [],
   "source": []
  },
  {
   "cell_type": "code",
   "execution_count": null,
   "metadata": {},
   "outputs": [],
   "source": []
  },
  {
   "cell_type": "code",
   "execution_count": null,
   "metadata": {},
   "outputs": [],
   "source": []
  },
  {
   "cell_type": "code",
   "execution_count": null,
   "metadata": {},
   "outputs": [],
   "source": []
  },
  {
   "cell_type": "code",
   "execution_count": 60,
   "metadata": {},
   "outputs": [],
   "source": [
    "def f4(s1,s2):\n",
    "    a,b,c=list(s1),list(s2),True\n",
    "    if len(s1)==0: \n",
    "        if len(s2)==0:\n",
    "            return c\n",
    "        else:\n",
    "            return False\n",
    "\n",
    "    if len(s2)==0: \n",
    "        if len(s1)==0:\n",
    "            return c\n",
    "        else:\n",
    "            return False\n",
    "        \n",
    "        \n",
    "    if a[0] != b[-1]:\n",
    "        return False   \n",
    "    if a[0] == b[-1]:\n",
    "        c = True\n",
    "        return  f4(a[1:],b[:-1])"
   ]
  },
  {
   "cell_type": "code",
   "execution_count": 20,
   "metadata": {},
   "outputs": [],
   "source": [
    "def f5(lst):\n",
    "    a,b= sorted(lst) ,[]\n",
    "    for i in range(len(lst)):\n",
    "        if a.count(lst[i]) >=2:\n",
    "            b.append(lst[i])\n",
    "    b = list(set(b))\n",
    "    return b "
   ]
  },
  {
   "cell_type": "code",
   "execution_count": 39,
   "metadata": {},
   "outputs": [],
   "source": [
    "def f6a_dic(lst):               ### get 사용 안함\n",
    "    a = list(set(lst))\n",
    "    rdic = {}\n",
    "    for i in range(len(a)):\n",
    "        rdic[a[i]] = lst.count(a[i])\n",
    "    return rdic"
   ]
  },
  {
   "cell_type": "code",
   "execution_count": null,
   "metadata": {},
   "outputs": [],
   "source": [
    "def f6b_dic(lst):                 ### get 사용 \n",
    "    a = list(set(lst))\n",
    "    rdic = {}\n",
    "    for i in range(len(a)):\n",
    "        rdic[a[i]] = lst.count(a[i])\n",
    "    return rdic"
   ]
  },
  {
   "cell_type": "code",
   "execution_count": 42,
   "metadata": {},
   "outputs": [],
   "source": [
    "def f6a_max(lst):\n",
    "    a = f6a_dic(lst)             ### get 사용 안함\n",
    "    b = max(a.values())\n",
    "    c = 0\n",
    "    for key, val in a.items():\n",
    "        if val ==b:\n",
    "            c = key\n",
    "    return c"
   ]
  },
  {
   "cell_type": "code",
   "execution_count": 53,
   "metadata": {},
   "outputs": [],
   "source": [
    "def f6b_max(lst):                 ### get 사용\n",
    "    a = f6a_dic(lst)\n",
    "    b = max(a.values())                      \n",
    "    c = 0\n",
    "    for key, val in a.items():\n",
    "        if val ==b:\n",
    "            c = key\n",
    "    return c"
   ]
  },
  {
   "cell_type": "code",
   "execution_count": 57,
   "metadata": {},
   "outputs": [],
   "source": [
    "def f7(lett):\n",
    "    answer ={}\n",
    "    for i in range(len(lett)):\n",
    "        answer[list(lett.values())[i]] = list(lett.values()).count(list(lett.values())[i])\n",
    "    return answer"
   ]
  },
  {
   "cell_type": "code",
   "execution_count": 58,
   "metadata": {},
   "outputs": [
    {
     "data": {
      "text/plain": [
       "{'a': 2, 'b': 1}"
      ]
     },
     "execution_count": 58,
     "metadata": {},
     "output_type": "execute_result"
    }
   ],
   "source": [
    "le ={1:'a',2:'b',3:'a'}\n",
    "f7(le)"
   ]
  },
  {
   "cell_type": "code",
   "execution_count": 41,
   "metadata": {},
   "outputs": [
    {
     "data": {
      "text/plain": [
       "3"
      ]
     },
     "execution_count": 41,
     "metadata": {},
     "output_type": "execute_result"
    }
   ],
   "source": [
    "f6a_max([1,1,2,2,2,3,3,3,3,3,4,4,5,6,7,8,9,11])"
   ]
  },
  {
   "cell_type": "code",
   "execution_count": 52,
   "metadata": {},
   "outputs": [],
   "source": [
    "a = {1: 2, 2: 3, 3: 5, 4: 2, 5: 1, 6: 1, 7: 1, 8: 1, 9: 1}\n",
    "b = a.get(0)\n",
    "b"
   ]
  },
  {
   "cell_type": "code",
   "execution_count": null,
   "metadata": {},
   "outputs": [],
   "source": []
  },
  {
   "cell_type": "code",
   "execution_count": null,
   "metadata": {},
   "outputs": [],
   "source": []
  },
  {
   "cell_type": "code",
   "execution_count": 102,
   "metadata": {},
   "outputs": [
    {
     "data": {
      "text/plain": [
       "True"
      ]
     },
     "execution_count": 102,
     "metadata": {},
     "output_type": "execute_result"
    }
   ],
   "source": [
    "a = [1,1,1,1,2,2,3,3,3]\n",
    "1 in a"
   ]
  },
  {
   "cell_type": "code",
   "execution_count": 24,
   "metadata": {},
   "outputs": [
    {
     "ename": "NameError",
     "evalue": "name 'get' is not defined",
     "output_type": "error",
     "traceback": [
      "\u001b[1;31m---------------------------------------------------------------------------\u001b[0m",
      "\u001b[1;31mNameError\u001b[0m                                 Traceback (most recent call last)",
      "\u001b[1;32m<ipython-input-24-deb1107e63d6>\u001b[0m in \u001b[0;36m<module>\u001b[1;34m()\u001b[0m\n\u001b[1;32m----> 1\u001b[1;33m \u001b[0mhelp\u001b[0m\u001b[1;33m(\u001b[0m\u001b[0mget\u001b[0m\u001b[1;33m(\u001b[0m\u001b[1;33m)\u001b[0m\u001b[1;33m)\u001b[0m\u001b[1;33m\u001b[0m\u001b[0m\n\u001b[0m",
      "\u001b[1;31mNameError\u001b[0m: name 'get' is not defined"
     ]
    }
   ],
   "source": [
    "help(get())"
   ]
  },
  {
   "cell_type": "code",
   "execution_count": null,
   "metadata": {},
   "outputs": [],
   "source": []
  },
  {
   "cell_type": "code",
   "execution_count": null,
   "metadata": {},
   "outputs": [],
   "source": []
  },
  {
   "cell_type": "code",
   "execution_count": null,
   "metadata": {},
   "outputs": [],
   "source": []
  },
  {
   "cell_type": "code",
   "execution_count": 34,
   "metadata": {},
   "outputs": [
    {
     "data": {
      "text/plain": [
       "True"
      ]
     },
     "execution_count": 34,
     "metadata": {},
     "output_type": "execute_result"
    }
   ],
   "source": [
    "f4('zabbc','cbbaz')"
   ]
  },
  {
   "cell_type": "code",
   "execution_count": 105,
   "metadata": {},
   "outputs": [
    {
     "data": {
      "text/plain": [
       "['d', 'c', 'b', 'a']"
      ]
     },
     "execution_count": 105,
     "metadata": {},
     "output_type": "execute_result"
    }
   ],
   "source": [
    "a= 'dcba'\n",
    "b = list(a)\n",
    "b"
   ]
  },
  {
   "cell_type": "code",
   "execution_count": 4,
   "metadata": {},
   "outputs": [],
   "source": [
    "def f3a(lst,n):\n",
    "    def su(lst):\n",
    "        if len(lst)==0:\n",
    "            return 0\n",
    "        else:\n",
    "            return lst[0]+su(lst[1:])\n",
    "        \n",
    "        \n",
    "    if n== su(lst):\n",
    "        return True\n",
    "    else: \n",
    "        return False"
   ]
  },
  {
   "cell_type": "code",
   "execution_count": 5,
   "metadata": {},
   "outputs": [
    {
     "data": {
      "text/plain": [
       "False"
      ]
     },
     "execution_count": 5,
     "metadata": {},
     "output_type": "execute_result"
    }
   ],
   "source": [
    "f3a([1,2,3,4],6)"
   ]
  },
  {
   "cell_type": "code",
   "execution_count": null,
   "metadata": {},
   "outputs": [],
   "source": []
  },
  {
   "cell_type": "code",
   "execution_count": 60,
   "metadata": {},
   "outputs": [
    {
     "data": {
      "text/plain": [
       "[2, 7, 1, 1, 23, 3, 4, 44, 2, 3, 4]"
      ]
     },
     "execution_count": 60,
     "metadata": {},
     "output_type": "execute_result"
    }
   ],
   "source": [
    "a = [1,2,7,1,1,23,3,4,44,2,3,4]\n",
    "b = a[1:]\n",
    "b"
   ]
  },
  {
   "cell_type": "code",
   "execution_count": null,
   "metadata": {},
   "outputs": [],
   "source": []
  }
 ],
 "metadata": {
  "kernelspec": {
   "display_name": "Python 3",
   "language": "python",
   "name": "python3"
  },
  "language_info": {
   "codemirror_mode": {
    "name": "ipython",
    "version": 3
   },
   "file_extension": ".py",
   "mimetype": "text/x-python",
   "name": "python",
   "nbconvert_exporter": "python",
   "pygments_lexer": "ipython3",
   "version": "3.6.5"
  }
 },
 "nbformat": 4,
 "nbformat_minor": 2
}
