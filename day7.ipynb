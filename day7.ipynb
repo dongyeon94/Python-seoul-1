{
 "cells": [
  {
   "cell_type": "code",
   "execution_count": 18,
   "metadata": {},
   "outputs": [],
   "source": [
    "f = open('test.txt', 'w',encoding='utf-8')\n",
    "for i in range(1,11):\n",
    "    data = '%d 번째 줄입니다.\\n' %i\n",
    "    f.write(data)\n",
    "f.close()"
   ]
  },
  {
   "cell_type": "code",
   "execution_count": 19,
   "metadata": {},
   "outputs": [],
   "source": [
    "f = open('test.txt', 'a',encoding='utf-8')\n",
    "for i in range(1,11):\n",
    "    data = '%d 번째 줄입니다.\\n' %i\n",
    "    f.write(data)\n",
    "f.close()"
   ]
  },
  {
   "cell_type": "code",
   "execution_count": 20,
   "metadata": {},
   "outputs": [
    {
     "name": "stdout",
     "output_type": "stream",
     "text": [
      "1 번째 줄입니다.\n",
      "\n",
      "2 번째 줄입니다.\n",
      "\n",
      "3 번째 줄입니다.\n",
      "\n",
      "4 번째 줄입니다.\n",
      "\n",
      "5 번째 줄입니다.\n",
      "\n",
      "6 번째 줄입니다.\n",
      "\n",
      "7 번째 줄입니다.\n",
      "\n",
      "8 번째 줄입니다.\n",
      "\n",
      "9 번째 줄입니다.\n",
      "\n",
      "10 번째 줄입니다.\n",
      "\n",
      "1 번째 줄입니다.\n",
      "\n",
      "2 번째 줄입니다.\n",
      "\n",
      "3 번째 줄입니다.\n",
      "\n",
      "4 번째 줄입니다.\n",
      "\n",
      "5 번째 줄입니다.\n",
      "\n",
      "6 번째 줄입니다.\n",
      "\n",
      "7 번째 줄입니다.\n",
      "\n",
      "8 번째 줄입니다.\n",
      "\n",
      "9 번째 줄입니다.\n",
      "\n",
      "10 번째 줄입니다.\n",
      "\n"
     ]
    }
   ],
   "source": [
    "f = open('test.txt', 'r',encoding = 'utf-8')\n",
    "while True :\n",
    "    line = f.readline()\n",
    "    if not line: \n",
    "        break\n",
    "    print(line)\n",
    "f.close()"
   ]
  },
  {
   "cell_type": "code",
   "execution_count": 29,
   "metadata": {},
   "outputs": [
    {
     "name": "stdout",
     "output_type": "stream",
     "text": [
      "1 번째 줄입니다.\n",
      "\n",
      "2 번째 줄입니다.\n",
      "\n",
      "3 번째 줄입니다.\n",
      "\n",
      "4 번째 줄입니다.\n",
      "\n",
      "5 번째 줄입니다.\n",
      "\n",
      "6 번째 줄입니다.\n",
      "\n",
      "7 번째 줄입니다.\n",
      "\n",
      "8 번째 줄입니다.\n",
      "\n",
      "9 번째 줄입니다.\n",
      "\n",
      "10 번째 줄입니다.\n",
      "\n",
      "1 번째 줄입니다.\n",
      "\n",
      "2 번째 줄입니다.\n",
      "\n",
      "3 번째 줄입니다.\n",
      "\n",
      "4 번째 줄입니다.\n",
      "\n",
      "5 번째 줄입니다.\n",
      "\n",
      "6 번째 줄입니다.\n",
      "\n",
      "7 번째 줄입니다.\n",
      "\n",
      "8 번째 줄입니다.\n",
      "\n",
      "9 번째 줄입니다.\n",
      "\n",
      "10 번째 줄입니다.\n",
      "\n"
     ]
    }
   ],
   "source": [
    "f = open('test.txt', 'r',encoding = 'utf-8')\n",
    "while True :\n",
    "    ## f.seek(2.0)  << 이거 하면 한바퀴 돌때마다 2번째로 자꾸 감 무한 loop\n",
    "    line = f.readline()\n",
    "    if not line: \n",
    "        break\n",
    "    print(line)\n",
    "f.close()"
   ]
  },
  {
   "cell_type": "code",
   "execution_count": 4,
   "metadata": {},
   "outputs": [
    {
     "name": "stdout",
     "output_type": "stream",
     "text": [
      "1 번째 줄입니다.\n",
      "2 번째 줄입니다.\n",
      "3 번째 줄입니다.\n",
      "4 번째 줄입니다.\n",
      "5 번째 줄입니다.\n",
      "6 번째 줄입니다.\n",
      "7 번째 줄입니다.\n",
      "8 번째 줄입니다.\n",
      "9 번째 줄입니다.\n",
      "10 번째 줄입니다.\n",
      "1 번째 줄입니다.\n",
      "2 번째 줄입니다.\n",
      "3 번째 줄입니다.\n",
      "4 번째 줄입니다.\n",
      "5 번째 줄입니다.\n",
      "6 번째 줄입니다.\n",
      "7 번째 줄입니다.\n",
      "8 번째 줄입니다.\n",
      "9 번째 줄입니다.\n",
      "10 번째 줄입니다.\n",
      "\n"
     ]
    }
   ],
   "source": [
    "f = open('test.txt', 'r',encoding = 'utf-8')\n",
    "data= f.read()\n",
    "print(data)\n",
    "f.close()"
   ]
  },
  {
   "cell_type": "code",
   "execution_count": 6,
   "metadata": {},
   "outputs": [
    {
     "name": "stdout",
     "output_type": "stream",
     "text": [
      "1 번째 줄입니다.\n",
      "2 번째 줄입니다.\n",
      "3 번째 줄입니다.\n",
      "4 번째 줄입니다.\n",
      "5 번째 줄입니다.\n",
      "6 번째 줄입니다.\n",
      "7 번째 줄입니다.\n",
      "8 번째 줄입니다.\n",
      "9 번째 줄입니다.\n",
      "10 번째 줄입니다.\n",
      "1 번째 줄입니다.\n",
      "2 번째 줄입니다.\n",
      "3 번째 줄입니다.\n",
      "4 번째 줄입니다.\n",
      "5 번째 줄입니다.\n",
      "6 번째 줄입니다.\n",
      "7 번째 줄입니다.\n",
      "8 번째 줄입니다.\n",
      "9 번째 줄입니다.\n",
      "10 번째 줄입니다.\n",
      "\n"
     ]
    }
   ],
   "source": [
    "with open('test.txt','r',encoding = 'utf-8')as f:\n",
    "\n",
    "    print(f.read())"
   ]
  },
  {
   "cell_type": "code",
   "execution_count": 11,
   "metadata": {},
   "outputs": [
    {
     "data": {
      "text/plain": [
       "3.123456789123457"
      ]
     },
     "execution_count": 11,
     "metadata": {},
     "output_type": "execute_result"
    }
   ],
   "source": [
    "x = 3.123456789123456789123456789123456789123456789123456789123456789123456789123456789123456789\n",
    "x"
   ]
  },
  {
   "cell_type": "code",
   "execution_count": 20,
   "metadata": {},
   "outputs": [
    {
     "data": {
      "text/plain": [
       "3.14e+20"
      ]
     },
     "execution_count": 20,
     "metadata": {},
     "output_type": "execute_result"
    }
   ],
   "source": [
    "a = 3.14e20\n",
    "a"
   ]
  },
  {
   "cell_type": "code",
   "execution_count": 21,
   "metadata": {},
   "outputs": [],
   "source": [
    "f = open('pi_digits.txt', 'w',encoding = 'utf-8')\n",
    "data = '3.1415926535\\n 8979323846\\n 2643383279' \n",
    "f.write(data)\n",
    "f.close()"
   ]
  },
  {
   "cell_type": "code",
   "execution_count": 24,
   "metadata": {},
   "outputs": [
    {
     "name": "stdout",
     "output_type": "stream",
     "text": [
      "3.1415926535 8979323846 2643383279\n"
     ]
    }
   ],
   "source": [
    "filename = 'pi_digits.txt'\n",
    "s = ''\n",
    "with open(filename) as file_ob:\n",
    "    lines = file_ob.readlines()\n",
    "    for line in lines:\n",
    "        s +=  line.strip('\\n')\n",
    "    print(s)"
   ]
  },
  {
   "cell_type": "code",
   "execution_count": 25,
   "metadata": {},
   "outputs": [
    {
     "ename": "TypeError",
     "evalue": "unsupported operand type(s) for +: 'int' and 'str'",
     "output_type": "error",
     "traceback": [
      "\u001b[1;31m---------------------------------------------------------------------------\u001b[0m",
      "\u001b[1;31mTypeError\u001b[0m                                 Traceback (most recent call last)",
      "\u001b[1;32m<ipython-input-25-e822eb6cc424>\u001b[0m in \u001b[0;36m<module>\u001b[1;34m()\u001b[0m\n\u001b[1;32m----> 1\u001b[1;33m \u001b[0mx\u001b[0m \u001b[1;33m=\u001b[0m \u001b[1;36m5\u001b[0m\u001b[1;33m+\u001b[0m\u001b[1;34m'ham'\u001b[0m\u001b[1;33m\u001b[0m\u001b[0m\n\u001b[0m\u001b[0;32m      2\u001b[0m \u001b[0mx\u001b[0m\u001b[1;33m\u001b[0m\u001b[0m\n",
      "\u001b[1;31mTypeError\u001b[0m: unsupported operand type(s) for +: 'int' and 'str'"
     ]
    }
   ],
   "source": [
    "x = 5+'ham'\n",
    "x"
   ]
  },
  {
   "cell_type": "code",
   "execution_count": 27,
   "metadata": {},
   "outputs": [
    {
     "name": "stdout",
     "output_type": "stream",
     "text": [
      "d?\n"
     ]
    }
   ],
   "source": [
    "try:\n",
    "    x = 5+'gma'\n",
    "except:\n",
    "    print('d?')"
   ]
  },
  {
   "cell_type": "code",
   "execution_count": 31,
   "metadata": {},
   "outputs": [
    {
     "name": "stdout",
     "output_type": "stream",
     "text": [
      "d?\n",
      "123\n"
     ]
    }
   ],
   "source": [
    "try:\n",
    "    x = 5+'ha'\n",
    "except:\n",
    "    print('d?')\n",
    "finally:\n",
    "    print('123')"
   ]
  },
  {
   "cell_type": "code",
   "execution_count": null,
   "metadata": {},
   "outputs": [],
   "source": []
  }
 ],
 "metadata": {
  "kernelspec": {
   "display_name": "Python 3",
   "language": "python",
   "name": "python3"
  },
  "language_info": {
   "codemirror_mode": {
    "name": "ipython",
    "version": 3
   },
   "file_extension": ".py",
   "mimetype": "text/x-python",
   "name": "python",
   "nbconvert_exporter": "python",
   "pygments_lexer": "ipython3",
   "version": "3.6.5"
  }
 },
 "nbformat": 4,
 "nbformat_minor": 2
}
