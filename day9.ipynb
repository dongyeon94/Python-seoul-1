{
 "cells": [
  {
   "cell_type": "code",
   "execution_count": 1,
   "metadata": {},
   "outputs": [],
   "source": [
    "class t1:            ### 자바랑 비슷 한 느낌?\n",
    "    a = 1\n",
    "    b=2"
   ]
  },
  {
   "cell_type": "code",
   "execution_count": 14,
   "metadata": {},
   "outputs": [
    {
     "data": {
      "text/plain": [
       "3"
      ]
     },
     "execution_count": 14,
     "metadata": {},
     "output_type": "execute_result"
    }
   ],
   "source": [
    "c = t1.a +t1.b\n",
    "c"
   ]
  },
  {
   "cell_type": "code",
   "execution_count": 23,
   "metadata": {},
   "outputs": [],
   "source": [
    "class t2:\n",
    "     a = True    "
   ]
  },
  {
   "cell_type": "code",
   "execution_count": 24,
   "metadata": {},
   "outputs": [
    {
     "data": {
      "text/plain": [
       "False"
      ]
     },
     "execution_count": 24,
     "metadata": {},
     "output_type": "execute_result"
    }
   ],
   "source": [
    "t2.a = False           ###     ??? 클래스 안의 변수 바꿔버림,,....모듈화 안되나?   오버라이딩 개념??\n",
    "t2.a"
   ]
  },
  {
   "cell_type": "code",
   "execution_count": 25,
   "metadata": {},
   "outputs": [
    {
     "data": {
      "text/plain": [
       "False"
      ]
     },
     "execution_count": 25,
     "metadata": {},
     "output_type": "execute_result"
    }
   ],
   "source": [
    "t2.a"
   ]
  },
  {
   "cell_type": "code",
   "execution_count": 26,
   "metadata": {},
   "outputs": [],
   "source": [
    "class t3:\n",
    "    d = t1.a         ## 이걸로 상속의 개념까지 다 포함 할 수 있???"
   ]
  },
  {
   "cell_type": "code",
   "execution_count": 27,
   "metadata": {},
   "outputs": [
    {
     "data": {
      "text/plain": [
       "1"
      ]
     },
     "execution_count": 27,
     "metadata": {},
     "output_type": "execute_result"
    }
   ],
   "source": [
    "t3.d"
   ]
  },
  {
   "cell_type": "code",
   "execution_count": null,
   "metadata": {},
   "outputs": [],
   "source": []
  },
  {
   "cell_type": "code",
   "execution_count": 77,
   "metadata": {},
   "outputs": [],
   "source": [
    "class rectan:\n",
    "    def vari(x,y,h,w):\n",
    "        x1, y1, h1, w1 = x,y,h,w                      ###   ㅇㅅㅇ ;;;     rectangle class\n",
    "        for j in range(y1):\n",
    "            print()\n",
    "        for i in range(h1):\n",
    "            print(' '*x1,'*'*w1)"
   ]
  },
  {
   "cell_type": "code",
   "execution_count": 78,
   "metadata": {},
   "outputs": [
    {
     "name": "stdout",
     "output_type": "stream",
     "text": [
      "\n",
      "\n",
      "\n",
      "\n",
      "    ***\n",
      "    ***\n",
      "    ***\n",
      "    ***\n"
     ]
    }
   ],
   "source": [
    "rectan.vari(3,4,4,3)"
   ]
  },
  {
   "cell_type": "code",
   "execution_count": null,
   "metadata": {},
   "outputs": [],
   "source": []
  },
  {
   "cell_type": "code",
   "execution_count": null,
   "metadata": {},
   "outputs": [],
   "source": []
  },
  {
   "cell_type": "code",
   "execution_count": 111,
   "metadata": {},
   "outputs": [],
   "source": [
    "class BaseClass(object):\n",
    "    def printHam(self):                           ## 상속의 개념\n",
    "        print('ham')                          "
   ]
  },
  {
   "cell_type": "code",
   "execution_count": 117,
   "metadata": {},
   "outputs": [],
   "source": [
    "class InheritingClass(BaseClass):\n",
    "    pass"
   ]
  },
  {
   "cell_type": "code",
   "execution_count": 120,
   "metadata": {},
   "outputs": [
    {
     "name": "stdout",
     "output_type": "stream",
     "text": [
      "ham\n"
     ]
    }
   ],
   "source": [
    "x=InheritingClass()\n",
    "x.printHam()"
   ]
  },
  {
   "cell_type": "code",
   "execution_count": null,
   "metadata": {},
   "outputs": [],
   "source": []
  },
  {
   "cell_type": "code",
   "execution_count": 11,
   "metadata": {},
   "outputs": [],
   "source": [
    "class Hero:\n",
    "    def __init__(self,name):        ## __init__  인데 __ 뺴면 소스가 안됨 ..   special naming  ??   \n",
    "        self.name = name            ###   __init__  이 메서드가 파이썬 빌트인 디폴트 값 설정 메소드   instance variable\n",
    "        self.heath =100\n",
    "    def eat(self,food):\n",
    "        if(food=='apple'):\n",
    "            self.heath -=100\n",
    "        elif(food=='ham'):\n",
    "            self.heath += 20"
   ]
  },
  {
   "cell_type": "code",
   "execution_count": 12,
   "metadata": {},
   "outputs": [
    {
     "name": "stdout",
     "output_type": "stream",
     "text": [
      "bob\n",
      "100\n",
      "120\n"
     ]
    }
   ],
   "source": [
    "bob = Hero('bob')\n",
    "print(bob.name)\n",
    "print(bob.heath)\n",
    "bob.eat('ham')\n",
    "print(bob.heath)"
   ]
  },
  {
   "cell_type": "code",
   "execution_count": null,
   "metadata": {},
   "outputs": [],
   "source": []
  },
  {
   "cell_type": "code",
   "execution_count": null,
   "metadata": {},
   "outputs": [],
   "source": []
  },
  {
   "cell_type": "code",
   "execution_count": 13,
   "metadata": {},
   "outputs": [],
   "source": [
    "class Service:\n",
    "    secret = 'ㅇㅅㅇ;;;'                         ####   __init__  없네..?     class variable   \n",
    "    def sum(self,a,b):\n",
    "        result =a+b\n",
    "        print('%s +%s = %s '%(a,b,result))              ### %s    string 으로 refomating 한거임   숫자인데  string "
   ]
  },
  {
   "cell_type": "code",
   "execution_count": 14,
   "metadata": {},
   "outputs": [
    {
     "name": "stdout",
     "output_type": "stream",
     "text": [
      "1 +1 = 2 \n"
     ]
    }
   ],
   "source": [
    "pey = Service()\n",
    "pey.sum(1,1)"
   ]
  },
  {
   "cell_type": "code",
   "execution_count": null,
   "metadata": {},
   "outputs": [],
   "source": []
  },
  {
   "cell_type": "code",
   "execution_count": 14,
   "metadata": {},
   "outputs": [],
   "source": [
    "class Service:\n",
    "    def __init__(self,name):\n",
    "        self.name = name\n",
    "    def sum(self, a,b):\n",
    "        result = a+b\n",
    "        print(result,self.name)"
   ]
  },
  {
   "cell_type": "code",
   "execution_count": 15,
   "metadata": {},
   "outputs": [
    {
     "name": "stdout",
     "output_type": "stream",
     "text": [
      "4 홍길동\n"
     ]
    }
   ],
   "source": [
    "pey = Service('홍길동')\n",
    "pey.sum(1,3)"
   ]
  },
  {
   "cell_type": "code",
   "execution_count": null,
   "metadata": {},
   "outputs": [],
   "source": []
  },
  {
   "cell_type": "code",
   "execution_count": 20,
   "metadata": {},
   "outputs": [],
   "source": [
    "def Volum(x,y,z):\n",
    "    return x*y*z\n",
    "def Volum2(x,y,z):\n",
    "    return x*y*z+1\n",
    "def Test():\n",
    "    print('my auto mobile volum is',Volum(10,15,20))\n",
    "    print('my auto mobile trank volum is',Volum2(10,15,20))"
   ]
  },
  {
   "cell_type": "code",
   "execution_count": 21,
   "metadata": {},
   "outputs": [
    {
     "name": "stdout",
     "output_type": "stream",
     "text": [
      "my auto mobile volum is 3000\n",
      "my auto mobile trank volum is 3001\n"
     ]
    }
   ],
   "source": [
    "Test()"
   ]
  },
  {
   "cell_type": "code",
   "execution_count": null,
   "metadata": {},
   "outputs": [],
   "source": []
  },
  {
   "cell_type": "code",
   "execution_count": 29,
   "metadata": {},
   "outputs": [],
   "source": [
    "class Automobile:\n",
    "    def __init__(self, wid, hei, leng):\n",
    "        self.wid = wid\n",
    "        self.hei = hei\n",
    "        self.leng = lengre\n",
    "        print('a new automobile instance is allocated')\n",
    "    def coumpute(self():\n",
    "        return self.w)id*self.wid*self.leng\n",
    "    \n",
    "class Fickup(Automobile):\n",
    "    def __init__(self, wid, hei , leng ,loading_ar):\n",
    "        Automobile.__init__(self, wid, hei ,leng)\n",
    "        self.loading_ar = loading_ar\n",
    "    def compute1(self):\n",
    "        return self.wid * self.hei *self.leng +self.loading_ar\n",
    "\n",
    "def test():\n",
    "    my_car = Automobile(10,15,25)\n",
    "    your_car = Fickup(10,15,25,1000)\n",
    "    print('your car is', my_car.coumpute())\n",
    "    print('your car is', your_car.compute1())"
   ]
  },
  {
   "cell_type": "code",
   "execution_count": 30,
   "metadata": {},
   "outputs": [
    {
     "name": "stdout",
     "output_type": "stream",
     "text": [
      "a new automobile instance is allocated\n",
      "a new automobile instance is allocated\n",
      "your car is 2500\n",
      "your car is 4750\n"
     ]
    }
   ],
   "source": [
    "test()"
   ]
  },
  {
   "cell_type": "code",
   "execution_count": null,
   "metadata": {},
   "outputs": [],
   "source": []
  },
  {
   "cell_type": "code",
   "execution_count": null,
   "metadata": {},
   "outputs": [],
   "source": []
  },
  {
   "cell_type": "code",
   "execution_count": null,
   "metadata": {},
   "outputs": [],
   "source": []
  },
  {
   "cell_type": "code",
   "execution_count": 211,
   "metadata": {},
   "outputs": [],
   "source": [
    "class Deposit:\n",
    "    def __init__(self,balance):\n",
    "        self.balance = balance\n",
    "    def plus(self, pl):\n",
    "        self.balance +=pl\n",
    "        return self.balance\n",
    "    def minus(self , mi):\n",
    "        self.balance -= mi\n",
    "        return self.balance"
   ]
  },
  {
   "cell_type": "code",
   "execution_count": 212,
   "metadata": {},
   "outputs": [
    {
     "data": {
      "text/plain": [
       "180"
      ]
     },
     "execution_count": 212,
     "metadata": {},
     "output_type": "execute_result"
    }
   ],
   "source": [
    "mycash = Deposit(100)              ###  balancd 에 100을 추가함\n",
    "mycash.plus(100)                ###  a 에 balance 에 20 을 추가한 120을 저장함\n",
    "mycash.minus(20)               ###  b 에 balance 에 30 을 뺀 70을 저장 할것 같지만 클래스 내에 저장된 balance가 120으로 바뀌었기 때문에\n",
    "                                  ####    90을 출력함"
   ]
  },
  {
   "cell_type": "code",
   "execution_count": 1,
   "metadata": {},
   "outputs": [],
   "source": [
    "class Deposit2:\n",
    "    def __init__(self):\n",
    "        self.balance = 0\n",
    "    def plus(self, pl):\n",
    "        self.balance +=pl\n",
    "        return self.balance\n",
    "    def minus(self , mi):\n",
    "        self.balance -= mi\n",
    "        return self.balance"
   ]
  },
  {
   "cell_type": "code",
   "execution_count": 20,
   "metadata": {},
   "outputs": [],
   "source": [
    "class Banck(Deposit2):\n",
    "    def __init__(self, mini):\n",
    "        Deposit2. __init__(self)\n",
    "        self.mini = mini\n",
    "    def minus(self , mi):\n",
    "        if self.balance - mi < self.mini:\n",
    "            print('돈이 없어서 못뽑아')\n",
    "        else:\n",
    "            Deposit2.minus(self , mi)"
   ]
  },
  {
   "cell_type": "code",
   "execution_count": 245,
   "metadata": {},
   "outputs": [],
   "source": [
    "class Banck(Deposit2):\n",
    "    def __init__(self, mini):\n",
    "        Deposit2. __init__(self)\n",
    "        self.mini = mini\n",
    "        \n",
    "        return self.balance"
   ]
  },
  {
   "cell_type": "code",
   "execution_count": 21,
   "metadata": {},
   "outputs": [
    {
     "name": "stdout",
     "output_type": "stream",
     "text": [
      "돈이 없어서 못뽑아\n"
     ]
    },
    {
     "data": {
      "text/plain": [
       "300"
      ]
     },
     "execution_count": 21,
     "metadata": {},
     "output_type": "execute_result"
    }
   ],
   "source": [
    "bcash = Banck(50)\n",
    "bcash.plus(300)\n",
    "bcash.balance\n",
    "bcash.minus(350)\n",
    "bcash.balance"
   ]
  },
  {
   "cell_type": "code",
   "execution_count": 232,
   "metadata": {},
   "outputs": [],
   "source": [
    "bcash = Banck(50)\n",
    "bcash.plus(100)\n",
    "bcash.minus(3)"
   ]
  },
  {
   "cell_type": "code",
   "execution_count": null,
   "metadata": {},
   "outputs": [],
   "source": []
  },
  {
   "cell_type": "code",
   "execution_count": null,
   "metadata": {},
   "outputs": [],
   "source": []
  },
  {
   "cell_type": "code",
   "execution_count": 110,
   "metadata": {},
   "outputs": [],
   "source": [
    "class Foo:\n",
    "    def __init__(self):\n",
    "        self.he =100 \n",
    "\n",
    "class SubFoo(Foo):\n",
    "    def __init__(self):\n",
    "        super().__init__()\n",
    "        self.mu = 200\n"
   ]
  },
  {
   "cell_type": "code",
   "execution_count": 111,
   "metadata": {},
   "outputs": [
    {
     "data": {
      "text/plain": [
       "(100, 200)"
      ]
     },
     "execution_count": 111,
     "metadata": {},
     "output_type": "execute_result"
    }
   ],
   "source": [
    "a = SubFoo()\n",
    "a.he , a.mu"
   ]
  },
  {
   "cell_type": "code",
   "execution_count": null,
   "metadata": {},
   "outputs": [],
   "source": []
  },
  {
   "cell_type": "code",
   "execution_count": 161,
   "metadata": {},
   "outputs": [
    {
     "data": {
      "text/plain": [
       "[__main__.b, __main__.c]"
      ]
     },
     "execution_count": 161,
     "metadata": {},
     "output_type": "execute_result"
    }
   ],
   "source": [
    "class a:\n",
    "    pass\n",
    "class b(a):\n",
    "    pass\n",
    "class c(a):\n",
    "    pass\n",
    "\n",
    "\n",
    "a.__subclasses__()"
   ]
  },
  {
   "cell_type": "code",
   "execution_count": 186,
   "metadata": {},
   "outputs": [],
   "source": [
    "class Parkhouse:\n",
    "    lastname = '박'\n",
    "    def __init__(self, name):\n",
    "        self.full = self.lastname  + name\n",
    "    def travel(self ,where):\n",
    "        print(self.full ,'놀러감',where,'으로')"
   ]
  },
  {
   "cell_type": "code",
   "execution_count": 187,
   "metadata": {},
   "outputs": [
    {
     "name": "stdout",
     "output_type": "stream",
     "text": [
      "박이름 놀러감 태국 으로\n"
     ]
    }
   ],
   "source": [
    "a = Parkhouse('이름')\n",
    "a.travel('태국')"
   ]
  },
  {
   "cell_type": "code",
   "execution_count": 188,
   "metadata": {},
   "outputs": [],
   "source": [
    "class Kimhouse(Parkhouse):\n",
    "    lastname = '김'"
   ]
  },
  {
   "cell_type": "code",
   "execution_count": 194,
   "metadata": {},
   "outputs": [
    {
     "name": "stdout",
     "output_type": "stream",
     "text": [
      "김이름 놀러감 미국 으로\n"
     ]
    }
   ],
   "source": [
    "a = Kimhouse('이름')\n",
    "a.travel('미국')"
   ]
  },
  {
   "cell_type": "code",
   "execution_count": 203,
   "metadata": {},
   "outputs": [],
   "source": [
    "class Kimhouse2(Parkhouse):\n",
    "    lastname = '김'\n",
    "    def travel(self ,where, days):\n",
    "        print(self.full ,'놀러감',where,'으로', days ,'일 가네')"
   ]
  },
  {
   "cell_type": "code",
   "execution_count": 204,
   "metadata": {},
   "outputs": [
    {
     "name": "stdout",
     "output_type": "stream",
     "text": [
      "김이름 놀러감 미국 으로 3 일 가네\n"
     ]
    }
   ],
   "source": [
    "a = Kimhouse2('이름')\n",
    "a.travel('미국',3)"
   ]
  },
  {
   "cell_type": "code",
   "execution_count": null,
   "metadata": {},
   "outputs": [],
   "source": []
  },
  {
   "cell_type": "code",
   "execution_count": 7,
   "metadata": {},
   "outputs": [
    {
     "data": {
      "text/plain": [
       "4403"
      ]
     },
     "execution_count": 7,
     "metadata": {},
     "output_type": "execute_result"
    }
   ],
   "source": [
    "import sys\n",
    "sys.getrefcount(0)   ##파이썬 내에서 0을 포인팅 하고 있는 숫자"
   ]
  },
  {
   "cell_type": "code",
   "execution_count": null,
   "metadata": {},
   "outputs": [],
   "source": []
  }
 ],
 "metadata": {
  "kernelspec": {
   "display_name": "Python 3",
   "language": "python",
   "name": "python3"
  },
  "language_info": {
   "codemirror_mode": {
    "name": "ipython",
    "version": 3
   },
   "file_extension": ".py",
   "mimetype": "text/x-python",
   "name": "python",
   "nbconvert_exporter": "python",
   "pygments_lexer": "ipython3",
   "version": "3.6.5"
  }
 },
 "nbformat": 4,
 "nbformat_minor": 2
}
